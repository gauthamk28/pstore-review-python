{
 "cells": [
  {
   "cell_type": "code",
   "execution_count": 1,
   "metadata": {},
   "outputs": [],
   "source": [
    "from textblob import TextBlob\n",
    "# For reading input files in CSV format\n",
    "import csv\n",
    "# For doing cool regular expressions\n",
    "import re\n",
    "# For sorting dictionaries\n",
    "import operator\n",
    "# For plotting results\n",
    "import numpy as np\n",
    "import matplotlib.mlab as mlab\n",
    "import matplotlib.pyplot as plt\n",
    "import pandas as pd\n",
    "import pygal\n",
    "%matplotlib inline"
   ]
  },
  {
   "cell_type": "code",
   "execution_count": 2,
   "metadata": {},
   "outputs": [],
   "source": [
    "df=pd.read_csv('cleaned_uberreviews.csv',encoding='cp1252',usecols=['review'])"
   ]
  },
  {
   "cell_type": "code",
   "execution_count": 3,
   "metadata": {},
   "outputs": [],
   "source": [
    "df['clean'] = df['review']\n",
    "\n",
    "# Remove all non-ascii characters\n",
    "#df['clean'] = re.sub(r'[^\\x00-\\x7F]+',' ', df['clean'])\n",
    "df['clean'] = df['clean'].str.replace(r'[^\\x00-\\x7F]+', '')\n",
    "\n",
    "# Normalize case\n",
    "df['clean'] = df['clean'].str.lower()\n",
    "\n",
    "df['clean'] = df['clean'].str.replace(r'ubre+', 'uber')\n",
    "df['clean'] = df['clean'].str.replace(r'ureb+', 'uber')\n",
    "df['clean'] = df['clean'].str.replace(r'uerb+', 'uber')\n",
    "df['clean'] = df['clean'].str.replace(r'uubr+', 'uber')"
   ]
  },
  {
   "cell_type": "code",
   "execution_count": 4,
   "metadata": {},
   "outputs": [],
   "source": [
    "# Correct spelling (WARNING: SLOW)\n",
    "df['spell_correction'] = df.apply(lambda x: TextBlob(x['review']).correct(), axis=1)"
   ]
  },
  {
   "cell_type": "code",
   "execution_count": 5,
   "metadata": {},
   "outputs": [],
   "source": [
    "# DEVELOP MODELS\n",
    "\n",
    "df['polarity'] = df.apply(lambda x: TextBlob(x['clean']).sentiment.polarity, axis=1)\n",
    "df['subjectivity'] = df.apply(lambda x: TextBlob(x['clean']).sentiment.subjectivity, axis=1)\n",
    "\n",
    "def senti(df):\n",
    "\n",
    "    if (df['polarity'] >= 0.1):\n",
    "        return 'positive'\n",
    "    elif (df['polarity'] <= -0.1):\n",
    "        return 'negative'\n",
    "    else :\n",
    "        return 'neutral'\n",
    "\n",
    "df['sentiment'] = df.apply(senti, axis = 1)"
   ]
  },
  {
   "cell_type": "code",
   "execution_count": 6,
   "metadata": {},
   "outputs": [
    {
     "name": "stdout",
     "output_type": "stream",
     "text": [
      "Top Positive reviews\n"
     ]
    },
    {
     "data": {
      "text/plain": [
       "133     uber, this service that you are providing us ...\n",
       "102     it's good that u are allowing booking for oth...\n",
       "114     please make sure ur drivers are well behaved ...\n",
       "74      uber is very useful. now, uber has came up wi...\n",
       "23      you need to add option to cancel the order. w...\n",
       "Name: clean, dtype: object"
      ]
     },
     "execution_count": 6,
     "metadata": {},
     "output_type": "execute_result"
    }
   ],
   "source": [
    "# EVALUATE RESULTS\n",
    "\n",
    "# First, print out a few example reviews from each sentiment category.\n",
    "\n",
    "print(\"Top Positive reviews\")\n",
    "positive_reviews = df[df['sentiment']=='positive']['clean']\n",
    "df.sort_values(['polarity'],ascending=0)['clean'].head()"
   ]
  },
  {
   "cell_type": "code",
   "execution_count": 7,
   "metadata": {},
   "outputs": [
    {
     "name": "stdout",
     "output_type": "stream",
     "text": [
      "Top Negative reviews\n"
     ]
    },
    {
     "data": {
      "text/plain": [
       "98      it's been 24 days still my issue is not resol...\n",
       "143     worst app, not even one can is booking showin...\n",
       "75      this app does not work. would not let me add ...\n",
       "66      the price goes up with the time. i have lost ...\n",
       "141     worst app service im trying to reset my accou...\n",
       "Name: clean, dtype: object"
      ]
     },
     "execution_count": 7,
     "metadata": {},
     "output_type": "execute_result"
    }
   ],
   "source": [
    "print(\"Top Negative reviews\")\n",
    "negative_reviews = df[df['sentiment']=='negative']['clean']\n",
    "df.sort_values(['polarity'],ascending=1)['clean'].head()"
   ]
  },
  {
   "cell_type": "code",
   "execution_count": 8,
   "metadata": {},
   "outputs": [
    {
     "name": "stdout",
     "output_type": "stream",
     "text": [
      "Top Neutral reviews\n"
     ]
    },
    {
     "data": {
      "text/plain": [
       "3      requested a ride and it said 10 mins. more th...\n",
       "6      if i could rate no stars i would. the first t...\n",
       "14     i had a problem with a driver 24 hours ago. t...\n",
       "16     uber was good enough unless it started chargi...\n",
       "26     do not use uber!! they are frauds!! my girlfr...\n",
       "Name: clean, dtype: object"
      ]
     },
     "execution_count": 8,
     "metadata": {},
     "output_type": "execute_result"
    }
   ],
   "source": [
    "print(\"Top Neutral reviews\")\n",
    "neutral_reviews = df[df['sentiment']=='neutral']['clean']\n",
    "df[df['sentiment'] =='neutral']['clean'].head()\n"
   ]
  },
  {
   "cell_type": "code",
   "execution_count": 9,
   "metadata": {},
   "outputs": [
    {
     "data": {
      "image/png": "[encoded data removed]",
      "text/plain": [
       "<matplotlib.figure.Figure at 0x1c124576dd8>"
      ]
     },
     "metadata": {},
     "output_type": "display_data"
    }
   ],
   "source": [
    "# Next, create some plots\n",
    "\n",
    "# A histogram of the scores.\n",
    "x = [df['polarity']]\n",
    "num_bins = 21\n",
    "n, bins, patches = plt.hist(x, num_bins, normed=1, facecolor='green', alpha=0.5)\n",
    "plt.xlabel('Polarity')\n",
    "plt.ylabel('Probability')\n",
    "plt.title(r'Histogram of polarity')\n",
    "# Tweak spacing to prevent clipping of ylabel\n",
    "plt.subplots_adjust(left=0.15)\n",
    "plt.show()"
   ]
  },
  {
   "cell_type": "code",
   "execution_count": 10,
   "metadata": {},
   "outputs": [
    {
     "data": {
      "image/png": "[encoded data removed]",
      "text/plain": [
       "<matplotlib.figure.Figure at 0x1c124521c88>"
      ]
     },
     "metadata": {},
     "output_type": "display_data"
    }
   ],
   "source": [
    "# A pie chart showing the number of reviews in each sentiment category\n",
    "\n",
    "pos = len(positive_reviews)\n",
    "neu = len(neutral_reviews)\n",
    "neg = len(negative_reviews)\n",
    "labels = 'Positive', 'Neutral', 'Negative'\n",
    "sizes = [pos, neu, neg]\n",
    "colors = ['yellowgreen', 'gold', 'lightcoral']\n",
    "plt.pie(sizes, labels=labels, colors=colors,\n",
    "        autopct='%1.1f%%', shadow=True, startangle=90)\n",
    "plt.axis('equal')\n",
    "plt.show()\n"
   ]
  },
  {
   "cell_type": "markdown",
   "metadata": {},
   "source": [
    "### Plotly\n",
    "You can mouse-over the charts or check or uncheck a category , zoon in or zoom out the histograms,...\n",
    "A nice interactive visualization library which I personally like"
   ]
  },
  {
   "cell_type": "code",
   "execution_count": 11,
   "metadata": {},
   "outputs": [
    {
     "data": {
      "text/html": [
       "<script>requirejs.config({paths: { 'plotly': ['https://cdn.plot.ly/plotly-latest.min']},});if(!window.Plotly) {{require(['plotly'],function(plotly) {window.Plotly=plotly;});}}</script>"
      ],
      "text/vnd.plotly.v1+html": [
       "<script>requirejs.config({paths: { 'plotly': ['https://cdn.plot.ly/plotly-latest.min']},});if(!window.Plotly) {{require(['plotly'],function(plotly) {window.Plotly=plotly;});}}</script>"
      ]
     },
     "metadata": {},
     "output_type": "display_data"
    }
   ],
   "source": [
    "import plotly as py\n",
    "import plotly.graph_objs as go\n",
    "import ipywidgets as widgets\n",
    "\n",
    "py.offline.init_notebook_mode(connected=True)"
   ]
  },
  {
   "cell_type": "code",
   "execution_count": 12,
   "metadata": {},
   "outputs": [
    {
     "data": {
      "application/vnd.plotly.v1+json": {
       "data": [
        {
         "labels": [
          "Positive",
          "Negative",
          "Neutral"
         ],
         "type": "pie",
         "values": [
          36,
          67,
          57
         ]
        }
       ],
       "layout": {
        "autosize": false,
        "height": 400,
        "title": "Number of reviews in each sentiment category",
        "width": 400
       }
      },
      "text/html": [
       "<div id=\"99c9ef48-4be1-490c-853e-fb6c496b4875\" style=\"height: 400px; width: 400px;\" class=\"plotly-graph-div\"></div><script type=\"text/javascript\">require([\"plotly\"], function(Plotly) { window.PLOTLYENV=window.PLOTLYENV || {};window.PLOTLYENV.BASE_URL=\"https://plot.ly\";Plotly.newPlot(\"99c9ef48-4be1-490c-853e-fb6c496b4875\", [{\"type\": \"pie\", \"labels\": [\"Positive\", \"Negative\", \"Neutral\"], \"values\": [36, 67, 57]}], {\"height\": 400, \"width\": 400, \"autosize\": false, \"title\": \"Number of reviews in each sentiment category\"}, {\"showLink\": false, \"linkText\": \"Export to plot.ly\"})});</script>"
      ],
      "text/vnd.plotly.v1+html": [
       "<div id=\"99c9ef48-4be1-490c-853e-fb6c496b4875\" style=\"height: 400px; width: 400px;\" class=\"plotly-graph-div\"></div><script type=\"text/javascript\">require([\"plotly\"], function(Plotly) { window.PLOTLYENV=window.PLOTLYENV || {};window.PLOTLYENV.BASE_URL=\"https://plot.ly\";Plotly.newPlot(\"99c9ef48-4be1-490c-853e-fb6c496b4875\", [{\"type\": \"pie\", \"labels\": [\"Positive\", \"Negative\", \"Neutral\"], \"values\": [36, 67, 57]}], {\"height\": 400, \"width\": 400, \"autosize\": false, \"title\": \"Number of reviews in each sentiment category\"}, {\"showLink\": false, \"linkText\": \"Export to plot.ly\"})});</script>"
      ]
     },
     "metadata": {},
     "output_type": "display_data"
    }
   ],
   "source": [
    "labels = ['Positive','Negative','Neutral']\n",
    "values = [pos,neg,neu]\n",
    "\n",
    "\n",
    "trace = go.Pie(labels=labels, values=values)\n",
    "\n",
    "\n",
    "layout = go.Layout(height = 400,\n",
    "                   width = 400,\n",
    "                   autosize = False,\n",
    "                   title = 'Number of reviews in each sentiment category')\n",
    "\n",
    "fig = go.Figure(data = [trace], layout = layout)\n",
    "\n",
    "py.offline.iplot(fig, show_link = False)"
   ]
  },
  {
   "cell_type": "code",
   "execution_count": 13,
   "metadata": {},
   "outputs": [
    {
     "data": {
      "application/vnd.plotly.v1+json": {
       "data": [
        {
         "type": "histogram",
         "x": [
          0.19999999999999998,
          0.13999999999999999,
          0.2340909090909091,
          0.08166666666666667,
          -0.225,
          -0.15624999999999997,
          0.07083333333333333,
          0.15,
          -0.75,
          -0.13999999999999999,
          0.16666666666666666,
          0.19999999999999998,
          0.20833333333333334,
          0.125,
          0.06666666666666667,
          -0.5,
          0.0875,
          -0.3385416666666667,
          0.2,
          -0.4318181818181818,
          0.3229166666666667,
          0.32,
          -0.125,
          0.4464285714285714,
          -0.375,
          -0.13333333333333333,
          0,
          -0.42399999999999993,
          -0.024999999999999994,
          0.0625,
          0.03888888888888889,
          -0.2149999999999999,
          0.07323232323232322,
          0,
          -0.3333333333333333,
          -0.20428571428571426,
          -0.15555555555555556,
          0.1,
          -0.17863636363636365,
          -0.16666666666666666,
          -0.5,
          -0.15625,
          0.2222222222222222,
          0.056060606060606075,
          -0.18125,
          0.017500000000000022,
          0.09464285714285714,
          -0.11562500000000003,
          0.17777777777777778,
          0.06666666666666667,
          0.0875,
          0.095,
          -0.5,
          -0.061408730158730135,
          0.11666666666666668,
          -0.21666666666666667,
          -0.375,
          0.004166666666666673,
          0.08061224489795918,
          0.3333333333333333,
          -0.010132575757575734,
          0,
          0.19999999999999996,
          0.07142857142857142,
          -0.3484212239583333,
          -0.020833333333333332,
          -1,
          -0.39999999999999997,
          0,
          -0.04666666666666666,
          -0.2333333333333333,
          0,
          0,
          0.1025,
          0.545,
          -1,
          0.23409090909090907,
          -0.375,
          -0.039999999999999994,
          0.35,
          0.03571428571428571,
          0.041666666666666664,
          -0.0761111111111111,
          -0.36999999999999994,
          -0.26166666666666666,
          0,
          0,
          -0.19374999999999998,
          0.07142857142857142,
          0.05333333333333334,
          -0.43333333333333335,
          0.3,
          -0.0035714285714285704,
          0.06666666666666667,
          -0.03571428571428571,
          -0.6,
          -0.06785714285714285,
          -0.65,
          -1,
          0.1875,
          -0.05,
          0,
          0.7,
          0.016666666666666666,
          -0.375,
          0.037500000000000006,
          -0.25833333333333336,
          -0.2875,
          0.2,
          -0.2699999999999999,
          -0.20080808080808082,
          -0.2916666666666667,
          -0.2,
          -0.3125,
          0.55,
          0.11249999999999999,
          0.046487603305785115,
          -0.5175,
          0.3,
          0.2733333333333333,
          -0.3033333333333333,
          0.08455882352941177,
          0.1361111111111111,
          -0.7999999999999999,
          0.25,
          0,
          -0.025,
          0.06628787878787878,
          -0.3,
          -0.5694444444444444,
          -0.06249999999999999,
          -0.005555555555555554,
          0,
          1,
          -0.75,
          -0.25,
          0.025625000000000002,
          -0.25,
          0,
          -0.1,
          -0.19687499999999997,
          -0.9,
          -0.2625,
          -1,
          -0.39,
          -0.275,
          -0.75,
          0.125,
          -0.175,
          0.25,
          0.016666666666666666,
          -0.13,
          0,
          0.13,
          0,
          -0.4025,
          -0.25,
          0,
          -0.3166666666666667,
          -0.25
         ]
        }
       ],
       "layout": {
        "autosize": false,
        "height": 400,
        "title": "Histogram of polarity",
        "width": 800,
        "xaxis": {
         "title": "Polarity"
        },
        "yaxis": {
         "title": "Probability"
        }
       }
      },
      "text/html": [
       "<div id=\"ac03d360-fd8e-45b1-99c4-dcead4baf472\" style=\"height: 400px; width: 800px;\" class=\"plotly-graph-div\"></div><script type=\"text/javascript\">require([\"plotly\"], function(Plotly) { window.PLOTLYENV=window.PLOTLYENV || {};window.PLOTLYENV.BASE_URL=\"https://plot.ly\";Plotly.newPlot(\"ac03d360-fd8e-45b1-99c4-dcead4baf472\", [{\"type\": \"histogram\", \"x\": [0.19999999999999998, 0.13999999999999999, 0.2340909090909091, 0.08166666666666667, -0.225, -0.15624999999999997, 0.07083333333333333, 0.15, -0.75, -0.13999999999999999, 0.16666666666666666, 0.19999999999999998, 0.20833333333333334, 0.125, 0.06666666666666667, -0.5, 0.0875, -0.3385416666666667, 0.2, -0.4318181818181818, 0.3229166666666667, 0.32, -0.125, 0.4464285714285714, -0.375, -0.13333333333333333, 0.0, -0.42399999999999993, -0.024999999999999994, 0.0625, 0.03888888888888889, -0.2149999999999999, 0.07323232323232322, 0.0, -0.3333333333333333, -0.20428571428571426, -0.15555555555555556, 0.1, -0.17863636363636365, -0.16666666666666666, -0.5, -0.15625, 0.2222222222222222, 0.056060606060606075, -0.18125, 0.017500000000000022, 0.09464285714285714, -0.11562500000000003, 0.17777777777777778, 0.06666666666666667, 0.0875, 0.095, -0.5, -0.061408730158730135, 0.11666666666666668, -0.21666666666666667, -0.375, 0.004166666666666673, 0.08061224489795918, 0.3333333333333333, -0.010132575757575734, 0.0, 0.19999999999999996, 0.07142857142857142, -0.3484212239583333, -0.020833333333333332, -1.0, -0.39999999999999997, 0.0, -0.04666666666666666, -0.2333333333333333, 0.0, 0.0, 0.1025, 0.545, -1.0, 0.23409090909090907, -0.375, -0.039999999999999994, 0.35, 0.03571428571428571, 0.041666666666666664, -0.0761111111111111, -0.36999999999999994, -0.26166666666666666, 0.0, 0.0, -0.19374999999999998, 0.07142857142857142, 0.05333333333333334, -0.43333333333333335, 0.3, -0.0035714285714285704, 0.06666666666666667, -0.03571428571428571, -0.6, -0.06785714285714285, -0.65, -1.0, 0.1875, -0.05, 0.0, 0.7, 0.016666666666666666, -0.375, 0.037500000000000006, -0.25833333333333336, -0.2875, 0.2, -0.2699999999999999, -0.20080808080808082, -0.2916666666666667, -0.2, -0.3125, 0.55, 0.11249999999999999, 0.046487603305785115, -0.5175, 0.3, 0.2733333333333333, -0.3033333333333333, 0.08455882352941177, 0.1361111111111111, -0.7999999999999999, 0.25, 0.0, -0.025, 0.06628787878787878, -0.3, -0.5694444444444444, -0.06249999999999999, -0.005555555555555554, 0.0, 1.0, -0.75, -0.25, 0.025625000000000002, -0.25, 0.0, -0.1, -0.19687499999999997, -0.9, -0.2625, -1.0, -0.39, -0.275, -0.75, 0.125, -0.175, 0.25, 0.016666666666666666, -0.13, 0.0, 0.13, 0.0, -0.4025, -0.25, 0.0, -0.3166666666666667, -0.25]}], {\"height\": 400, \"width\": 800, \"autosize\": false, \"title\": \"Histogram of polarity\", \"xaxis\": {\"title\": \"Polarity\"}, \"yaxis\": {\"title\": \"Probability\"}}, {\"showLink\": false, \"linkText\": \"Export to plot.ly\"})});</script>"
      ],
      "text/vnd.plotly.v1+html": [
       "<div id=\"ac03d360-fd8e-45b1-99c4-dcead4baf472\" style=\"height: 400px; width: 800px;\" class=\"plotly-graph-div\"></div><script type=\"text/javascript\">require([\"plotly\"], function(Plotly) { window.PLOTLYENV=window.PLOTLYENV || {};window.PLOTLYENV.BASE_URL=\"https://plot.ly\";Plotly.newPlot(\"ac03d360-fd8e-45b1-99c4-dcead4baf472\", [{\"type\": \"histogram\", \"x\": [0.19999999999999998, 0.13999999999999999, 0.2340909090909091, 0.08166666666666667, -0.225, -0.15624999999999997, 0.07083333333333333, 0.15, -0.75, -0.13999999999999999, 0.16666666666666666, 0.19999999999999998, 0.20833333333333334, 0.125, 0.06666666666666667, -0.5, 0.0875, -0.3385416666666667, 0.2, -0.4318181818181818, 0.3229166666666667, 0.32, -0.125, 0.4464285714285714, -0.375, -0.13333333333333333, 0.0, -0.42399999999999993, -0.024999999999999994, 0.0625, 0.03888888888888889, -0.2149999999999999, 0.07323232323232322, 0.0, -0.3333333333333333, -0.20428571428571426, -0.15555555555555556, 0.1, -0.17863636363636365, -0.16666666666666666, -0.5, -0.15625, 0.2222222222222222, 0.056060606060606075, -0.18125, 0.017500000000000022, 0.09464285714285714, -0.11562500000000003, 0.17777777777777778, 0.06666666666666667, 0.0875, 0.095, -0.5, -0.061408730158730135, 0.11666666666666668, -0.21666666666666667, -0.375, 0.004166666666666673, 0.08061224489795918, 0.3333333333333333, -0.010132575757575734, 0.0, 0.19999999999999996, 0.07142857142857142, -0.3484212239583333, -0.020833333333333332, -1.0, -0.39999999999999997, 0.0, -0.04666666666666666, -0.2333333333333333, 0.0, 0.0, 0.1025, 0.545, -1.0, 0.23409090909090907, -0.375, -0.039999999999999994, 0.35, 0.03571428571428571, 0.041666666666666664, -0.0761111111111111, -0.36999999999999994, -0.26166666666666666, 0.0, 0.0, -0.19374999999999998, 0.07142857142857142, 0.05333333333333334, -0.43333333333333335, 0.3, -0.0035714285714285704, 0.06666666666666667, -0.03571428571428571, -0.6, -0.06785714285714285, -0.65, -1.0, 0.1875, -0.05, 0.0, 0.7, 0.016666666666666666, -0.375, 0.037500000000000006, -0.25833333333333336, -0.2875, 0.2, -0.2699999999999999, -0.20080808080808082, -0.2916666666666667, -0.2, -0.3125, 0.55, 0.11249999999999999, 0.046487603305785115, -0.5175, 0.3, 0.2733333333333333, -0.3033333333333333, 0.08455882352941177, 0.1361111111111111, -0.7999999999999999, 0.25, 0.0, -0.025, 0.06628787878787878, -0.3, -0.5694444444444444, -0.06249999999999999, -0.005555555555555554, 0.0, 1.0, -0.75, -0.25, 0.025625000000000002, -0.25, 0.0, -0.1, -0.19687499999999997, -0.9, -0.2625, -1.0, -0.39, -0.275, -0.75, 0.125, -0.175, 0.25, 0.016666666666666666, -0.13, 0.0, 0.13, 0.0, -0.4025, -0.25, 0.0, -0.3166666666666667, -0.25]}], {\"height\": 400, \"width\": 800, \"autosize\": false, \"title\": \"Histogram of polarity\", \"xaxis\": {\"title\": \"Polarity\"}, \"yaxis\": {\"title\": \"Probability\"}}, {\"showLink\": false, \"linkText\": \"Export to plot.ly\"})});</script>"
      ]
     },
     "metadata": {},
     "output_type": "display_data"
    }
   ],
   "source": [
    "x = np.array(df['polarity'])\n",
    "data = [go.Histogram(x=x)]\n",
    "\n",
    "layout = go.Layout(height = 400,\n",
    "                   width = 800,\n",
    "                   autosize = False,\n",
    "                   title = 'Histogram of polarity',\n",
    "                   xaxis=dict(\n",
    "                   title='Polarity'),\n",
    "                   yaxis=dict(\n",
    "                   title='Probability')\n",
    "                  )\n",
    "\n",
    "fig = go.Figure(data = data, layout = layout)\n",
    "\n",
    "py.offline.iplot(fig, filename='basic histogram', show_link = False)"
   ]
  },
  {
   "cell_type": "markdown",
   "metadata": {},
   "source": [
    "###### This is an example of Pygal pie chart which I personally dont like"
   ]
  },
  {
   "cell_type": "code",
   "execution_count": 14,
   "metadata": {},
   "outputs": [
    {
     "data": {
      "text/html": [
       "\n",
       "<!DOCTYPE html>\n",
       "<html>\n",
       "  <head>\n",
       "  <script type=\"text/javascript\" src=\"http://kozea.github.com/pygal.js/javascripts/svg.jquery.js\"></script>\n",
       "  <script type=\"text/javascript\" src=\"https://kozea.github.io/pygal.js/2.0.x/pygal-tooltips.min.js\"\"></script>\n",
       "  </head>\n",
       "  <body>\n",
       "    <figure>\n",
       "      <?xml version='1.0' encoding='utf-8'?>\n",
       "<svg xmlns:xlink=\"http://www.w3.org/1999/xlink\" xmlns=\"http://www.w3.org/2000/svg\" id=\"chart-9f296ba2-d048-495e-85da-1ba95c78ab88\" class=\"pygal-chart\" viewBox=\"0 0 800 600\"><!--Generated with pygal 2.4.0 (lxml) ©Kozea 2012-2016 on 2018-07-08--><!--http://pygal.org--><!--http://github.com/Kozea/pygal--><defs><style type=\"text/css\">#chart-9f296ba2-d048-495e-85da-1ba95c78ab88{-webkit-user-select:none;-webkit-font-smoothing:antialiased;font-family:Consolas,\"Liberation Mono\",Menlo,Courier,monospace}#chart-9f296ba2-d048-495e-85da-1ba95c78ab88 .title{font-family:Consolas,\"Liberation Mono\",Menlo,Courier,monospace;font-size:16px}#chart-9f296ba2-d048-495e-85da-1ba95c78ab88 .legends .legend text{font-family:Consolas,\"Liberation Mono\",Menlo,Courier,monospace;font-size:14px}#chart-9f296ba2-d048-495e-85da-1ba95c78ab88 .axis text{font-family:Consolas,\"Liberation Mono\",Menlo,Courier,monospace;font-size:10px}#chart-9f296ba2-d048-495e-85da-1ba95c78ab88 .axis text.major{font-family:Consolas,\"Liberation Mono\",Menlo,Courier,monospace;font-size:10px}#chart-9f296ba2-d048-495e-85da-1ba95c78ab88 .text-overlay text.value{font-family:Consolas,\"Liberation Mono\",Menlo,Courier,monospace;font-size:16px}#chart-9f296ba2-d048-495e-85da-1ba95c78ab88 .text-overlay text.label{font-family:Consolas,\"Liberation Mono\",Menlo,Courier,monospace;font-size:10px}#chart-9f296ba2-d048-495e-85da-1ba95c78ab88 .tooltip{font-family:Consolas,\"Liberation Mono\",Menlo,Courier,monospace;font-size:14px}#chart-9f296ba2-d048-495e-85da-1ba95c78ab88 text.no_data{font-family:Consolas,\"Liberation Mono\",Menlo,Courier,monospace;font-size:64px}\n",
       "#chart-9f296ba2-d048-495e-85da-1ba95c78ab88{background-color:rgba(249,249,249,1)}#chart-9f296ba2-d048-495e-85da-1ba95c78ab88 path,#chart-9f296ba2-d048-495e-85da-1ba95c78ab88 line,#chart-9f296ba2-d048-495e-85da-1ba95c78ab88 rect,#chart-9f296ba2-d048-495e-85da-1ba95c78ab88 circle{-webkit-transition:150ms;-moz-transition:150ms;transition:150ms}#chart-9f296ba2-d048-495e-85da-1ba95c78ab88 .graph &gt; .background{fill:rgba(249,249,249,1)}#chart-9f296ba2-d048-495e-85da-1ba95c78ab88 .plot &gt; .background{fill:rgba(255,255,255,1)}#chart-9f296ba2-d048-495e-85da-1ba95c78ab88 .graph{fill:rgba(0,0,0,.87)}#chart-9f296ba2-d048-495e-85da-1ba95c78ab88 text.no_data{fill:rgba(0,0,0,1)}#chart-9f296ba2-d048-495e-85da-1ba95c78ab88 .title{fill:rgba(0,0,0,1)}#chart-9f296ba2-d048-495e-85da-1ba95c78ab88 .legends .legend text{fill:rgba(0,0,0,.87)}#chart-9f296ba2-d048-495e-85da-1ba95c78ab88 .legends .legend:hover text{fill:rgba(0,0,0,1)}#chart-9f296ba2-d048-495e-85da-1ba95c78ab88 .axis .line{stroke:rgba(0,0,0,1)}#chart-9f296ba2-d048-495e-85da-1ba95c78ab88 .axis .guide.line{stroke:rgba(0,0,0,.54)}#chart-9f296ba2-d048-495e-85da-1ba95c78ab88 .axis .major.line{stroke:rgba(0,0,0,.87)}#chart-9f296ba2-d048-495e-85da-1ba95c78ab88 .axis text.major{fill:rgba(0,0,0,1)}#chart-9f296ba2-d048-495e-85da-1ba95c78ab88 .axis.y .guides:hover .guide.line,#chart-9f296ba2-d048-495e-85da-1ba95c78ab88 .line-graph .axis.x .guides:hover .guide.line,#chart-9f296ba2-d048-495e-85da-1ba95c78ab88 .stackedline-graph .axis.x .guides:hover .guide.line,#chart-9f296ba2-d048-495e-85da-1ba95c78ab88 .xy-graph .axis.x .guides:hover .guide.line{stroke:rgba(0,0,0,1)}#chart-9f296ba2-d048-495e-85da-1ba95c78ab88 .axis .guides:hover text{fill:rgba(0,0,0,1)}#chart-9f296ba2-d048-495e-85da-1ba95c78ab88 .reactive{fill-opacity:.7;stroke-opacity:.8}#chart-9f296ba2-d048-495e-85da-1ba95c78ab88 .ci{stroke:rgba(0,0,0,.87)}#chart-9f296ba2-d048-495e-85da-1ba95c78ab88 .reactive.active,#chart-9f296ba2-d048-495e-85da-1ba95c78ab88 .active .reactive{fill-opacity:.8;stroke-opacity:.9;stroke-width:4}#chart-9f296ba2-d048-495e-85da-1ba95c78ab88 .ci .reactive.active{stroke-width:1.5}#chart-9f296ba2-d048-495e-85da-1ba95c78ab88 .series text{fill:rgba(0,0,0,1)}#chart-9f296ba2-d048-495e-85da-1ba95c78ab88 .tooltip rect{fill:rgba(255,255,255,1);stroke:rgba(0,0,0,1);-webkit-transition:opacity 150ms;-moz-transition:opacity 150ms;transition:opacity 150ms}#chart-9f296ba2-d048-495e-85da-1ba95c78ab88 .tooltip .label{fill:rgba(0,0,0,.87)}#chart-9f296ba2-d048-495e-85da-1ba95c78ab88 .tooltip .label{fill:rgba(0,0,0,.87)}#chart-9f296ba2-d048-495e-85da-1ba95c78ab88 .tooltip .legend{font-size:.8em;fill:rgba(0,0,0,.54)}#chart-9f296ba2-d048-495e-85da-1ba95c78ab88 .tooltip .x_label{font-size:.6em;fill:rgba(0,0,0,1)}#chart-9f296ba2-d048-495e-85da-1ba95c78ab88 .tooltip .xlink{font-size:.5em;text-decoration:underline}#chart-9f296ba2-d048-495e-85da-1ba95c78ab88 .tooltip .value{font-size:1.5em}#chart-9f296ba2-d048-495e-85da-1ba95c78ab88 .bound{font-size:.5em}#chart-9f296ba2-d048-495e-85da-1ba95c78ab88 .max-value{font-size:.75em;fill:rgba(0,0,0,.54)}#chart-9f296ba2-d048-495e-85da-1ba95c78ab88 .map-element{fill:rgba(255,255,255,1);stroke:rgba(0,0,0,.54) !important}#chart-9f296ba2-d048-495e-85da-1ba95c78ab88 .map-element .reactive{fill-opacity:inherit;stroke-opacity:inherit}#chart-9f296ba2-d048-495e-85da-1ba95c78ab88 .color-0,#chart-9f296ba2-d048-495e-85da-1ba95c78ab88 .color-0 a:visited{stroke:#F44336;fill:#F44336}#chart-9f296ba2-d048-495e-85da-1ba95c78ab88 .color-1,#chart-9f296ba2-d048-495e-85da-1ba95c78ab88 .color-1 a:visited{stroke:#3F51B5;fill:#3F51B5}#chart-9f296ba2-d048-495e-85da-1ba95c78ab88 .color-2,#chart-9f296ba2-d048-495e-85da-1ba95c78ab88 .color-2 a:visited{stroke:#009688;fill:#009688}#chart-9f296ba2-d048-495e-85da-1ba95c78ab88 .text-overlay .color-0 text{fill:black}#chart-9f296ba2-d048-495e-85da-1ba95c78ab88 .text-overlay .color-1 text{fill:black}#chart-9f296ba2-d048-495e-85da-1ba95c78ab88 .text-overlay .color-2 text{fill:black}\n",
       "#chart-9f296ba2-d048-495e-85da-1ba95c78ab88 text.no_data{text-anchor:middle}#chart-9f296ba2-d048-495e-85da-1ba95c78ab88 .guide.line{fill:none}#chart-9f296ba2-d048-495e-85da-1ba95c78ab88 .centered{text-anchor:middle}#chart-9f296ba2-d048-495e-85da-1ba95c78ab88 .title{text-anchor:middle}#chart-9f296ba2-d048-495e-85da-1ba95c78ab88 .legends .legend text{fill-opacity:1}#chart-9f296ba2-d048-495e-85da-1ba95c78ab88 .axis.x text{text-anchor:middle}#chart-9f296ba2-d048-495e-85da-1ba95c78ab88 .axis.x:not(.web) text[transform]{text-anchor:start}#chart-9f296ba2-d048-495e-85da-1ba95c78ab88 .axis.x:not(.web) text[transform].backwards{text-anchor:end}#chart-9f296ba2-d048-495e-85da-1ba95c78ab88 .axis.y text{text-anchor:end}#chart-9f296ba2-d048-495e-85da-1ba95c78ab88 .axis.y text[transform].backwards{text-anchor:start}#chart-9f296ba2-d048-495e-85da-1ba95c78ab88 .axis.y2 text{text-anchor:start}#chart-9f296ba2-d048-495e-85da-1ba95c78ab88 .axis.y2 text[transform].backwards{text-anchor:end}#chart-9f296ba2-d048-495e-85da-1ba95c78ab88 .axis .guide.line{stroke-dasharray:4,4}#chart-9f296ba2-d048-495e-85da-1ba95c78ab88 .axis .major.guide.line{stroke-dasharray:6,6}#chart-9f296ba2-d048-495e-85da-1ba95c78ab88 .horizontal .axis.y .guide.line,#chart-9f296ba2-d048-495e-85da-1ba95c78ab88 .horizontal .axis.y2 .guide.line,#chart-9f296ba2-d048-495e-85da-1ba95c78ab88 .vertical .axis.x .guide.line{opacity:0}#chart-9f296ba2-d048-495e-85da-1ba95c78ab88 .horizontal .axis.always_show .guide.line,#chart-9f296ba2-d048-495e-85da-1ba95c78ab88 .vertical .axis.always_show .guide.line{opacity:1 !important}#chart-9f296ba2-d048-495e-85da-1ba95c78ab88 .axis.y .guides:hover .guide.line,#chart-9f296ba2-d048-495e-85da-1ba95c78ab88 .axis.y2 .guides:hover .guide.line,#chart-9f296ba2-d048-495e-85da-1ba95c78ab88 .axis.x .guides:hover .guide.line{opacity:1}#chart-9f296ba2-d048-495e-85da-1ba95c78ab88 .axis .guides:hover text{opacity:1}#chart-9f296ba2-d048-495e-85da-1ba95c78ab88 .nofill{fill:none}#chart-9f296ba2-d048-495e-85da-1ba95c78ab88 .subtle-fill{fill-opacity:.2}#chart-9f296ba2-d048-495e-85da-1ba95c78ab88 .dot{stroke-width:1px;fill-opacity:1}#chart-9f296ba2-d048-495e-85da-1ba95c78ab88 .dot.active{stroke-width:5px}#chart-9f296ba2-d048-495e-85da-1ba95c78ab88 .dot.negative{fill:transparent}#chart-9f296ba2-d048-495e-85da-1ba95c78ab88 text,#chart-9f296ba2-d048-495e-85da-1ba95c78ab88 tspan{stroke:none !important}#chart-9f296ba2-d048-495e-85da-1ba95c78ab88 .series text.active{opacity:1}#chart-9f296ba2-d048-495e-85da-1ba95c78ab88 .tooltip rect{fill-opacity:.95;stroke-width:.5}#chart-9f296ba2-d048-495e-85da-1ba95c78ab88 .tooltip text{fill-opacity:1}#chart-9f296ba2-d048-495e-85da-1ba95c78ab88 .showable{visibility:hidden}#chart-9f296ba2-d048-495e-85da-1ba95c78ab88 .showable.shown{visibility:visible}#chart-9f296ba2-d048-495e-85da-1ba95c78ab88 .gauge-background{fill:rgba(229,229,229,1);stroke:none}#chart-9f296ba2-d048-495e-85da-1ba95c78ab88 .bg-lines{stroke:rgba(249,249,249,1);stroke-width:2px}</style><script type=\"text/javascript\">window.pygal = window.pygal || {};window.pygal.config = window.pygal.config || {};window.pygal.config['9f296ba2-d048-495e-85da-1ba95c78ab88'] = {\"allow_interruptions\": false, \"box_mode\": \"extremes\", \"classes\": [\"pygal-chart\"], \"css\": [\"file://style.css\", \"file://graph.css\"], \"defs\": [], \"disable_xml_declaration\": false, \"dots_size\": 2.5, \"dynamic_print_values\": false, \"explicit_size\": false, \"fill\": false, \"force_uri_protocol\": \"https\", \"formatter\": null, \"half_pie\": false, \"height\": 600, \"include_x_axis\": false, \"inner_radius\": 0, \"interpolate\": null, \"interpolation_parameters\": {}, \"interpolation_precision\": 250, \"inverse_y_axis\": false, \"js\": [\"//kozea.github.io/pygal.js/2.0.x/pygal-tooltips.min.js\"], \"legend_at_bottom\": false, \"legend_at_bottom_columns\": null, \"legend_box_size\": 12, \"logarithmic\": false, \"margin\": 20, \"margin_bottom\": null, \"margin_left\": null, \"margin_right\": null, \"margin_top\": null, \"max_scale\": 16, \"min_scale\": 4, \"missing_value_fill_truncation\": \"x\", \"no_data_text\": \"No data\", \"no_prefix\": false, \"order_min\": null, \"pretty_print\": false, \"print_labels\": false, \"print_values\": false, \"print_values_position\": \"center\", \"print_zeroes\": true, \"range\": null, \"rounded_bars\": null, \"secondary_range\": null, \"show_dots\": true, \"show_legend\": true, \"show_minor_x_labels\": true, \"show_minor_y_labels\": true, \"show_only_major_dots\": false, \"show_x_guides\": false, \"show_x_labels\": true, \"show_y_guides\": true, \"show_y_labels\": true, \"spacing\": 10, \"stack_from_top\": false, \"strict\": false, \"stroke\": true, \"stroke_style\": null, \"style\": {\"background\": \"rgba(249, 249, 249, 1)\", \"ci_colors\": [], \"colors\": [\"#F44336\", \"#3F51B5\", \"#009688\", \"#FFC107\", \"#FF5722\", \"#9C27B0\", \"#03A9F4\", \"#8BC34A\", \"#FF9800\", \"#E91E63\", \"#2196F3\", \"#4CAF50\", \"#FFEB3B\", \"#673AB7\", \"#00BCD4\", \"#CDDC39\", \"#9E9E9E\", \"#607D8B\"], \"font_family\": \"Consolas, \\\"Liberation Mono\\\", Menlo, Courier, monospace\", \"foreground\": \"rgba(0, 0, 0, .87)\", \"foreground_strong\": \"rgba(0, 0, 0, 1)\", \"foreground_subtle\": \"rgba(0, 0, 0, .54)\", \"guide_stroke_dasharray\": \"4,4\", \"label_font_family\": \"Consolas, \\\"Liberation Mono\\\", Menlo, Courier, monospace\", \"label_font_size\": 10, \"legend_font_family\": \"Consolas, \\\"Liberation Mono\\\", Menlo, Courier, monospace\", \"legend_font_size\": 14, \"major_guide_stroke_dasharray\": \"6,6\", \"major_label_font_family\": \"Consolas, \\\"Liberation Mono\\\", Menlo, Courier, monospace\", \"major_label_font_size\": 10, \"no_data_font_family\": \"Consolas, \\\"Liberation Mono\\\", Menlo, Courier, monospace\", \"no_data_font_size\": 64, \"opacity\": \".7\", \"opacity_hover\": \".8\", \"plot_background\": \"rgba(255, 255, 255, 1)\", \"stroke_opacity\": \".8\", \"stroke_opacity_hover\": \".9\", \"title_font_family\": \"Consolas, \\\"Liberation Mono\\\", Menlo, Courier, monospace\", \"title_font_size\": 16, \"tooltip_font_family\": \"Consolas, \\\"Liberation Mono\\\", Menlo, Courier, monospace\", \"tooltip_font_size\": 14, \"transition\": \"150ms\", \"value_background\": \"rgba(229, 229, 229, 1)\", \"value_colors\": [], \"value_font_family\": \"Consolas, \\\"Liberation Mono\\\", Menlo, Courier, monospace\", \"value_font_size\": 16, \"value_label_font_family\": \"Consolas, \\\"Liberation Mono\\\", Menlo, Courier, monospace\", \"value_label_font_size\": 10}, \"title\": \"Number of reviews in each sentiment category\", \"tooltip_border_radius\": 0, \"tooltip_fancy_mode\": true, \"truncate_label\": null, \"truncate_legend\": null, \"width\": 800, \"x_label_rotation\": 0, \"x_labels\": null, \"x_labels_major\": null, \"x_labels_major_count\": null, \"x_labels_major_every\": null, \"x_title\": null, \"xrange\": null, \"y_label_rotation\": 0, \"y_labels\": null, \"y_labels_major\": null, \"y_labels_major_count\": null, \"y_labels_major_every\": null, \"y_title\": null, \"zero\": 0, \"legends\": [\"Positive\", \"Neutral\", \"Negative\"]}</script><script type=\"text/javascript\" xlink:href=\"https://kozea.github.io/pygal.js/2.0.x/pygal-tooltips.min.js\"/></defs><title>Number of reviews in each sentiment category</title><g class=\"graph pie-graph vertical\"><rect class=\"background\" height=\"600\" width=\"800\" x=\"0\" y=\"0\"/><g class=\"plot\" transform=\"translate(109, 46)\"><rect class=\"background\" height=\"534\" width=\"670.8\" x=\"0\" y=\"0\"/><g class=\"series serie-0 color-0\"><g class=\"slices\"><g class=\"slice\"><path class=\"slice reactive tooltip-trigger\" d=\"M335.400000 26.700000 A240.300000 240.300000 0 0 1 572.741508 229.408798 L335.400000 267.000000 A0.000000 0.000000 0 0 0 335.400000 267.000000 z\"/><desc class=\"value\">36</desc><desc class=\"x centered\">413.43118300687155</desc><desc class=\"y centered\">175.63722323315628</desc></g></g></g><g class=\"series serie-1 color-1\"><g class=\"slices\"><g class=\"slice\"><path class=\"slice reactive tooltip-trigger\" d=\"M572.741508 229.408798 A240.300000 240.300000 0 0 1 217.984316 476.660790 L335.400000 267.000000 A0.000000 0.000000 0 0 0 335.400000 267.000000 z\"/><desc class=\"value\">57</desc><desc class=\"x centered\">404.1003234213476</desc><desc class=\"y centered\">365.57123343959046</desc></g></g></g><g class=\"series serie-2 color-2\"><g class=\"slices\"><g class=\"slice\"><path class=\"slice reactive tooltip-trigger\" d=\"M217.984316 476.660790 A240.300000 240.300000 0 0 1 335.400000 26.700000 L335.400000 267.000000 A0.000000 0.000000 0 0 0 335.400000 267.000000 z\"/><desc class=\"value\">67</desc><desc class=\"x centered\">219.1429690529148</desc><desc class=\"y centered\">236.66313702162873</desc></g></g></g></g><g class=\"titles\"><text class=\"title plot_title\" x=\"400.0\" y=\"26\">Number of reviews in each sentiment category</text></g><g class=\"plot overlay\" transform=\"translate(109, 46)\"><g class=\"series serie-0 color-0\"/><g class=\"series serie-1 color-1\"/><g class=\"series serie-2 color-2\"/></g><g class=\"plot text-overlay\" transform=\"translate(109, 46)\"><g class=\"series serie-0 color-0\"/><g class=\"series serie-1 color-1\"/><g class=\"series serie-2 color-2\"/></g><g class=\"plot tooltip-overlay\" transform=\"translate(109, 46)\"><g class=\"tooltip\" style=\"opacity: 0\" transform=\"translate(0 0)\"><rect class=\"tooltip-box\" height=\"0\" rx=\"0\" ry=\"0\" width=\"0\"/><g class=\"text\"/></g></g><g class=\"legends\" transform=\"translate(10, 56)\"><g class=\"legend reactive activate-serie\" id=\"activate-serie-0\"><rect class=\"color-0 reactive\" height=\"12\" width=\"12\" x=\"0.0\" y=\"1.0\"/><text x=\"17.0\" y=\"11.2\">Positive</text></g><g class=\"legend reactive activate-serie\" id=\"activate-serie-1\"><rect class=\"color-1 reactive\" height=\"12\" width=\"12\" x=\"0.0\" y=\"22.0\"/><text x=\"17.0\" y=\"32.2\">Neutral</text></g><g class=\"legend reactive activate-serie\" id=\"activate-serie-2\"><rect class=\"color-2 reactive\" height=\"12\" width=\"12\" x=\"0.0\" y=\"43.0\"/><text x=\"17.0\" y=\"53.2\">Negative</text></g></g><g class=\"legends\" transform=\"translate(790, 56)\"/></g></svg>\n",
       "    </figure>\n",
       "  </body>\n",
       "</html>\n"
      ],
      "text/plain": [
       "<IPython.core.display.HTML object>"
      ]
     },
     "metadata": {},
     "output_type": "display_data"
    }
   ],
   "source": [
    "import pygal\n",
    "from IPython.display import display, HTML\n",
    "\n",
    "base_html = \"\"\"\n",
    "<!DOCTYPE html>\n",
    "<html>\n",
    "  <head>\n",
    "  <script type=\"text/javascript\" src=\"http://kozea.github.com/pygal.js/javascripts/svg.jquery.js\"></script>\n",
    "  <script type=\"text/javascript\" src=\"https://kozea.github.io/pygal.js/2.0.x/pygal-tooltips.min.js\"\"></script>\n",
    "  </head>\n",
    "  <body>\n",
    "    <figure>\n",
    "      {rendered_chart}\n",
    "    </figure>\n",
    "  </body>\n",
    "</html>\n",
    "\"\"\"\n",
    "\n",
    "def galplot(chart):\n",
    "    rendered_chart = chart.render(is_unicode=True)\n",
    "    plot_html = base_html.format(rendered_chart=rendered_chart)\n",
    "    display(HTML(plot_html))\n",
    "\n",
    "pie_chart = pygal.Pie()\n",
    "pie_chart.title = 'Number of reviews in each sentiment category'\n",
    "pie_chart.add('Positive',pos)\n",
    "pie_chart.add('Neutral', neu)\n",
    "pie_chart.add('Negative',neg)\n",
    "\n",
    "galplot(pie_chart)"
   ]
  },
  {
   "cell_type": "code",
   "execution_count": null,
   "metadata": {},
   "outputs": [],
   "source": []
  }
 ],
 "metadata": {
  "kernelspec": {
   "display_name": "Python [conda env:Anaconda3]",
   "language": "python",
   "name": "conda-env-Anaconda3-py"
  },
  "language_info": {
   "codemirror_mode": {
    "name": "ipython",
    "version": 3
   },
   "file_extension": ".py",
   "mimetype": "text/x-python",
   "name": "python",
   "nbconvert_exporter": "python",
   "pygments_lexer": "ipython3",
   "version": "3.6.3"
  }
 },
 "nbformat": 4,
 "nbformat_minor": 2
}
