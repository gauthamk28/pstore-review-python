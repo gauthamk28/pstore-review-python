{
 "cells": [
  {
   "cell_type": "code",
   "execution_count": 1,
   "metadata": {},
   "outputs": [],
   "source": [
    "from textblob import TextBlob\n",
    "# For reading input files in CSV format\n",
    "import csv\n",
    "# For doing cool regular expressions\n",
    "import re\n",
    "# For sorting dictionaries\n",
    "import operator\n",
    "# For plotting results\n",
    "import numpy as np\n",
    "import matplotlib.mlab as mlab\n",
    "import matplotlib.pyplot as plt\n",
    "import pandas as pd\n",
    "import pygal\n",
    "%matplotlib inline"
   ]
  },
  {
   "cell_type": "code",
   "execution_count": 2,
   "metadata": {},
   "outputs": [],
   "source": [
    "df=pd.read_csv('new_cleaned_reviews.csv',encoding='cp1252',usecols=['review'])"
   ]
  },
  {
   "cell_type": "code",
   "execution_count": 5,
   "metadata": {},
   "outputs": [],
   "source": [
    "df['clean'] = df['review']\n",
    "\n",
    "# Remove all non-ascii characters\n",
    "#df['clean'] = re.sub(r'[^\\x00-\\x7F]+',' ', df['clean'])\n",
    "df['clean'] = df['clean'].str.replace(r'[^\\x00-\\x7F]+', '')\n",
    "\n",
    "# Normalize case\n",
    "df['clean'] = df['clean'].str.lower()\n",
    "\n",
    "df['clean'] = df['clean'].str.replace(r'pbug+', 'pubg')\n",
    "df['clean'] = df['clean'].str.replace(r'pug+', 'pubg')\n",
    "df['clean'] = df['clean'].str.replace(r'bupg+', 'pubg')\n",
    "df['clean'] = df['clean'].str.replace(r'bubg+', 'pubg')"
   ]
  },
  {
   "cell_type": "code",
   "execution_count": 6,
   "metadata": {},
   "outputs": [],
   "source": [
    "# Correct spelling (WARNING: SLOW)\n",
    "df['spell_correction'] = df.apply(lambda x: TextBlob(x['review']).correct(), axis=1)"
   ]
  },
  {
   "cell_type": "code",
   "execution_count": 7,
   "metadata": {},
   "outputs": [],
   "source": [
    "# DEVELOP MODELS\n",
    "\n",
    "df['polarity'] = df.apply(lambda x: TextBlob(x['clean']).sentiment.polarity, axis=1)\n",
    "df['subjectivity'] = df.apply(lambda x: TextBlob(x['clean']).sentiment.subjectivity, axis=1)\n",
    "\n",
    "def senti(df):\n",
    "\n",
    "    if (df['polarity'] >= 0.1):\n",
    "        return 'positive'\n",
    "    elif (df['polarity'] <= -0.1):\n",
    "        return 'negative'\n",
    "    else :\n",
    "        return 'neutral'\n",
    "\n",
    "df['sentiment'] = df.apply(senti, axis = 1)"
   ]
  },
  {
   "cell_type": "code",
   "execution_count": 8,
   "metadata": {},
   "outputs": [
    {
     "name": "stdout",
     "output_type": "stream",
     "text": [
      "Top Positive reviews\n"
     ]
    },
    {
     "data": {
      "text/plain": [
       "159     i wasn't able to play it first due my old pho...\n",
       "102     the best battle royale game on mobile device....\n",
       "185     i always edit my review after every update..n...\n",
       "89      perfection at its peak. pubg has grossed up t...\n",
       "32      who fool made this my mobile is hang because ...\n",
       "Name: clean, dtype: object"
      ]
     },
     "execution_count": 8,
     "metadata": {},
     "output_type": "execute_result"
    }
   ],
   "source": [
    "# EVALUATE RESULTS\n",
    "\n",
    "# First, print out a few example reviews from each sentiment category.\n",
    "\n",
    "print(\"Top Positive reviews\")\n",
    "positive_reviews = df[df['sentiment']=='positive']['clean']\n",
    "df.sort_values(['polarity'],ascending=0)['clean'].head()"
   ]
  },
  {
   "cell_type": "code",
   "execution_count": 9,
   "metadata": {},
   "outputs": [
    {
     "name": "stdout",
     "output_type": "stream",
     "text": [
      "Top Negative reviews\n"
     ]
    },
    {
     "data": {
      "text/plain": [
       "194     cannot play this game after the new update......\n",
       "103     i've been playing this game for a long time b...\n",
       "153     after the update. the game has become borderl...\n",
       "118     never been addicted like this to a game! i ha...\n",
       "135     i have 3 questions: why do i always have a no...\n",
       "Name: clean, dtype: object"
      ]
     },
     "execution_count": 9,
     "metadata": {},
     "output_type": "execute_result"
    }
   ],
   "source": [
    "print(\"Top Negative reviews\")\n",
    "negative_reviews = df[df['sentiment']=='negative']['clean']\n",
    "df.sort_values(['polarity'],ascending=1)['clean'].head()"
   ]
  },
  {
   "cell_type": "code",
   "execution_count": 10,
   "metadata": {},
   "outputs": [
    {
     "name": "stdout",
     "output_type": "stream",
     "text": [
      "Top Neutral reviews\n"
     ]
    },
    {
     "data": {
      "text/plain": [
       "1      the game is poorly optimized needs to run muc...\n",
       "2      amazing game experience but you should optimi...\n",
       "9      the mobile version of pubg is amazing. realis...\n",
       "10     you really need to start addressing the amoun...\n",
       "12     as a gamer i m reviewing it. forget all the g...\n",
       "Name: clean, dtype: object"
      ]
     },
     "execution_count": 10,
     "metadata": {},
     "output_type": "execute_result"
    }
   ],
   "source": [
    "print(\"Top Neutral reviews\")\n",
    "neutral_reviews = df[df['sentiment']=='neutral']['clean']\n",
    "df[df['sentiment'] =='neutral']['clean'].head()\n"
   ]
  },
  {
   "cell_type": "code",
   "execution_count": 11,
   "metadata": {},
   "outputs": [
    {
     "data": {
      "image/png": "[encoded data removed]",
      "text/plain": [
       "<matplotlib.figure.Figure at 0x2432d4fc9e8>"
      ]
     },
     "metadata": {},
     "output_type": "display_data"
    }
   ],
   "source": [
    "# Next, create some plots\n",
    "\n",
    "# A histogram of the scores.\n",
    "x = [df['polarity']]\n",
    "num_bins = 21\n",
    "n, bins, patches = plt.hist(x, num_bins, normed=1, facecolor='green', alpha=0.5)\n",
    "plt.xlabel('Polarity')\n",
    "plt.ylabel('Probability')\n",
    "plt.title(r'Histogram of polarity')\n",
    "# Tweak spacing to prevent clipping of ylabel\n",
    "plt.subplots_adjust(left=0.15)\n",
    "plt.show()"
   ]
  },
  {
   "cell_type": "code",
   "execution_count": 12,
   "metadata": {},
   "outputs": [
    {
     "data": {
      "image/png": "[encoded data removed]",
      "text/plain": [
       "<matplotlib.figure.Figure at 0x2432d4a9f60>"
      ]
     },
     "metadata": {},
     "output_type": "display_data"
    }
   ],
   "source": [
    "# A pie chart showing the number of reviews in each sentiment category\n",
    "\n",
    "pos = len(positive_reviews)\n",
    "neu = len(neutral_reviews)\n",
    "neg = len(negative_reviews)\n",
    "labels = 'Positive', 'Neutral', 'Negative'\n",
    "sizes = [pos, neu, neg]\n",
    "colors = ['yellowgreen', 'gold', 'lightcoral']\n",
    "plt.pie(sizes, labels=labels, colors=colors,\n",
    "        autopct='%1.1f%%', shadow=True, startangle=90)\n",
    "plt.axis('equal')\n",
    "plt.show()\n"
   ]
  },
  {
   "cell_type": "markdown",
   "metadata": {},
   "source": [
    "### Plotly\n",
    "You can mouse-over the charts or check or uncheck a category , zoon in or zoom out the histograms,...\n",
    "A nice interactive visualization library which I personally like"
   ]
  },
  {
   "cell_type": "code",
   "execution_count": 13,
   "metadata": {},
   "outputs": [
    {
     "data": {
      "text/html": [
       "<script>requirejs.config({paths: { 'plotly': ['https://cdn.plot.ly/plotly-latest.min']},});if(!window.Plotly) {{require(['plotly'],function(plotly) {window.Plotly=plotly;});}}</script>"
      ],
      "text/vnd.plotly.v1+html": [
       "<script>requirejs.config({paths: { 'plotly': ['https://cdn.plot.ly/plotly-latest.min']},});if(!window.Plotly) {{require(['plotly'],function(plotly) {window.Plotly=plotly;});}}</script>"
      ]
     },
     "metadata": {},
     "output_type": "display_data"
    }
   ],
   "source": [
    "import plotly as py\n",
    "import plotly.graph_objs as go\n",
    "import ipywidgets as widgets\n",
    "\n",
    "py.offline.init_notebook_mode(connected=True)"
   ]
  },
  {
   "cell_type": "code",
   "execution_count": 14,
   "metadata": {},
   "outputs": [
    {
     "data": {
      "application/vnd.plotly.v1+json": {
       "data": [
        {
         "labels": [
          "Positive",
          "Negative",
          "Neutral"
         ],
         "type": "pie",
         "values": [
          102,
          14,
          84
         ]
        }
       ],
       "layout": {
        "autosize": false,
        "height": 400,
        "title": "Number of reviews in each sentiment category",
        "width": 400
       }
      },
      "text/html": [
       "<div id=\"44ee0709-44e8-485b-a19c-9a140a0bd30b\" style=\"height: 400px; width: 400px;\" class=\"plotly-graph-div\"></div><script type=\"text/javascript\">require([\"plotly\"], function(Plotly) { window.PLOTLYENV=window.PLOTLYENV || {};window.PLOTLYENV.BASE_URL=\"https://plot.ly\";Plotly.newPlot(\"44ee0709-44e8-485b-a19c-9a140a0bd30b\", [{\"type\": \"pie\", \"labels\": [\"Positive\", \"Negative\", \"Neutral\"], \"values\": [102, 14, 84]}], {\"height\": 400, \"width\": 400, \"autosize\": false, \"title\": \"Number of reviews in each sentiment category\"}, {\"showLink\": false, \"linkText\": \"Export to plot.ly\"})});</script>"
      ],
      "text/vnd.plotly.v1+html": [
       "<div id=\"44ee0709-44e8-485b-a19c-9a140a0bd30b\" style=\"height: 400px; width: 400px;\" class=\"plotly-graph-div\"></div><script type=\"text/javascript\">require([\"plotly\"], function(Plotly) { window.PLOTLYENV=window.PLOTLYENV || {};window.PLOTLYENV.BASE_URL=\"https://plot.ly\";Plotly.newPlot(\"44ee0709-44e8-485b-a19c-9a140a0bd30b\", [{\"type\": \"pie\", \"labels\": [\"Positive\", \"Negative\", \"Neutral\"], \"values\": [102, 14, 84]}], {\"height\": 400, \"width\": 400, \"autosize\": false, \"title\": \"Number of reviews in each sentiment category\"}, {\"showLink\": false, \"linkText\": \"Export to plot.ly\"})});</script>"
      ]
     },
     "metadata": {},
     "output_type": "display_data"
    }
   ],
   "source": [
    "labels = ['Positive','Negative','Neutral']\n",
    "values = [pos,neg,neu]\n",
    "\n",
    "\n",
    "trace = go.Pie(labels=labels, values=values)\n",
    "\n",
    "\n",
    "layout = go.Layout(height = 400,\n",
    "                   width = 400,\n",
    "                   autosize = False,\n",
    "                   title = 'Number of reviews in each sentiment category')\n",
    "\n",
    "fig = go.Figure(data = [trace], layout = layout)\n",
    "\n",
    "py.offline.iplot(fig, show_link = False)"
   ]
  },
  {
   "cell_type": "code",
   "execution_count": 15,
   "metadata": {},
   "outputs": [
    {
     "data": {
      "application/vnd.plotly.v1+json": {
       "data": [
        {
         "type": "histogram",
         "x": [
          0.32563016528925615,
          0.09999999999999999,
          0.0640909090909091,
          0.11633333333333333,
          0.22821637426900582,
          0.2461700336700337,
          0.10659090909090911,
          0.13888888888888895,
          0.32857142857142857,
          0.027034313725490186,
          0.08896103896103896,
          0.20779220779220778,
          0.026666666666666665,
          0.25,
          0.12361111111111112,
          0.16923076923076924,
          0.2222222222222222,
          0.12377622377622376,
          0.14537037037037034,
          -0.005530303030303057,
          -0.028914141414141434,
          0.2691220238095238,
          0.3722222222222222,
          0.2785714285714285,
          0.2686363636363637,
          0.19318181818181818,
          0.22205882352941175,
          0.017592592592592583,
          0.04589225589225591,
          0.12954545454545457,
          0.20294612794612793,
          0.08285123966942148,
          0.3857142857142857,
          0.29209710743801653,
          0.09222222222222222,
          0.25833333333333336,
          0.22307692307692312,
          0.24456168831168834,
          0.08725490196078432,
          0.015740740740740746,
          0.1143939393939394,
          0.13518518518518519,
          0.18863636363636363,
          0.08400974025974024,
          0.12638888888888886,
          0.3714285714285715,
          0.17333333333333334,
          0.13020833333333331,
          -9.25185853854297e-18,
          0.29333333333333333,
          -0.039583333333333345,
          0.05000000000000001,
          0.1494107744107744,
          0.10416666666666667,
          0.20918367346938777,
          0.16666666666666663,
          0.24553571428571427,
          0.013333333333333324,
          0.1351851851851852,
          0.0737310606060606,
          0.03624999999999999,
          0.08888888888888889,
          0.0033333333333333214,
          0.14285714285714285,
          0.32708333333333334,
          0.16079545454545452,
          -0.018181818181818188,
          0.01180555555555555,
          0.04448051948051947,
          0.2179166666666667,
          0.2251388888888889,
          0.31250000000000006,
          0.13434343434343432,
          0.06239669421487601,
          -0.11818181818181821,
          0.31363636363636366,
          0.3833333333333333,
          -0.05875000000000001,
          0.14361810064935068,
          0.3025,
          0.2962962962962963,
          0.009999999999999992,
          0.11875000000000001,
          0.08012820512820512,
          0.22976190476190475,
          0.11166666666666664,
          0.1680555555555556,
          -0.00972222222222223,
          0.0011904761904761862,
          0.42000000000000004,
          0.06071428571428571,
          0.192,
          0.16333333333333333,
          0.1486111111111111,
          0.030555555555555544,
          0.09999999999999999,
          0.08404344193817878,
          0.08749999999999998,
          0.25178571428571433,
          -0.05000000000000001,
          0.14500000000000002,
          -0.11666666666666668,
          0.4555555555555555,
          -0.29000000000000004,
          -0.05000000000000001,
          0.062499999999999986,
          0.21994949494949492,
          0.1408333333333333,
          0.16466942148760333,
          0.2772727272727273,
          0.02261904761904762,
          -0.15,
          -0.05714285714285716,
          -0.035576923076923075,
          0.10555555555555557,
          0,
          0.09218749999999998,
          -0.03373015873015872,
          -0.2562499999999999,
          0.1451388888888889,
          -0.040000000000000015,
          0.062222222222222213,
          0.175,
          0.01347402597402596,
          -0.045454545454545456,
          -0.004545454545454544,
          0.1862504409171076,
          0.09727272727272726,
          0.02305194805194805,
          -0.13916947250280584,
          0.22000000000000003,
          0.10833333333333332,
          0.19666666666666668,
          -0.03181818181818182,
          -0.009090909090909094,
          -0.21997354497354502,
          -0.01874999999999999,
          -0.014814814814814824,
          0.10454545454545454,
          0.19444444444444442,
          -0.03125000000000001,
          0.014285714285714275,
          0.2725595238095238,
          0.29605263157894735,
          0.15937500000000002,
          0.12424242424242425,
          -0.08,
          0.07916666666666668,
          0.1407142857142857,
          0.16727272727272724,
          0.3738095238095238,
          0.1423076923076923,
          0.3558333333333333,
          -0.2777777777777778,
          0.028571428571428574,
          0.2833333333333333,
          -0.20357142857142854,
          -0.008333333333333337,
          0.20166666666666666,
          0.4641322314049587,
          0.047756410256410246,
          0.06115702479338843,
          -0.12833333333333333,
          0.25555555555555554,
          0.0875,
          0.2757142857142857,
          0.1068181818181818,
          0.0903138528138528,
          0.04545454545454545,
          0.3,
          -0.03342592592592593,
          0.08388278388278388,
          0.21833333333333335,
          -0.035374149659863956,
          0.14545454545454548,
          0.006060606060606044,
          -0.12330246913580245,
          0.38273809523809527,
          0.321875,
          -0.15999999999999998,
          0.04345238095238095,
          -0.05833333333333333,
          0.0893939393939394,
          0.0325,
          -0.175,
          0.4231060606060606,
          0.02291666666666668,
          0.0736111111111111,
          0.09696969696969697,
          0.24300000000000005,
          0.05,
          0.06944444444444445,
          0.21999999999999997,
          -0.02179924242424244,
          -0.4127272727272727,
          0.17767857142857144,
          -0.01607142857142857,
          0.11704545454545455,
          -0.06666666666666667,
          0.07499999999999998
         ]
        }
       ],
       "layout": {
        "autosize": false,
        "height": 400,
        "title": "Histogram of polarity",
        "width": 800,
        "xaxis": {
         "title": "Polarity"
        },
        "yaxis": {
         "title": "Probability"
        }
       }
      },
      "text/html": [
       "<div id=\"a42add0a-bc37-4b95-9e21-f4bdcf10de3c\" style=\"height: 400px; width: 800px;\" class=\"plotly-graph-div\"></div><script type=\"text/javascript\">require([\"plotly\"], function(Plotly) { window.PLOTLYENV=window.PLOTLYENV || {};window.PLOTLYENV.BASE_URL=\"https://plot.ly\";Plotly.newPlot(\"a42add0a-bc37-4b95-9e21-f4bdcf10de3c\", [{\"type\": \"histogram\", \"x\": [0.32563016528925615, 0.09999999999999999, 0.0640909090909091, 0.11633333333333333, 0.22821637426900582, 0.2461700336700337, 0.10659090909090911, 0.13888888888888895, 0.32857142857142857, 0.027034313725490186, 0.08896103896103896, 0.20779220779220778, 0.026666666666666665, 0.25, 0.12361111111111112, 0.16923076923076924, 0.2222222222222222, 0.12377622377622376, 0.14537037037037034, -0.005530303030303057, -0.028914141414141434, 0.2691220238095238, 0.3722222222222222, 0.2785714285714285, 0.2686363636363637, 0.19318181818181818, 0.22205882352941175, 0.017592592592592583, 0.04589225589225591, 0.12954545454545457, 0.20294612794612793, 0.08285123966942148, 0.3857142857142857, 0.29209710743801653, 0.09222222222222222, 0.25833333333333336, 0.22307692307692312, 0.24456168831168834, 0.08725490196078432, 0.015740740740740746, 0.1143939393939394, 0.13518518518518519, 0.18863636363636363, 0.08400974025974024, 0.12638888888888886, 0.3714285714285715, 0.17333333333333334, 0.13020833333333331, -9.25185853854297e-18, 0.29333333333333333, -0.039583333333333345, 0.05000000000000001, 0.1494107744107744, 0.10416666666666667, 0.20918367346938777, 0.16666666666666663, 0.24553571428571427, 0.013333333333333324, 0.1351851851851852, 0.0737310606060606, 0.03624999999999999, 0.08888888888888889, 0.0033333333333333214, 0.14285714285714285, 0.32708333333333334, 0.16079545454545452, -0.018181818181818188, 0.01180555555555555, 0.04448051948051947, 0.2179166666666667, 0.2251388888888889, 0.31250000000000006, 0.13434343434343432, 0.06239669421487601, -0.11818181818181821, 0.31363636363636366, 0.3833333333333333, -0.05875000000000001, 0.14361810064935068, 0.3025, 0.2962962962962963, 0.009999999999999992, 0.11875000000000001, 0.08012820512820512, 0.22976190476190475, 0.11166666666666664, 0.1680555555555556, -0.00972222222222223, 0.0011904761904761862, 0.42000000000000004, 0.06071428571428571, 0.192, 0.16333333333333333, 0.1486111111111111, 0.030555555555555544, 0.09999999999999999, 0.08404344193817878, 0.08749999999999998, 0.25178571428571433, -0.05000000000000001, 0.14500000000000002, -0.11666666666666668, 0.4555555555555555, -0.29000000000000004, -0.05000000000000001, 0.062499999999999986, 0.21994949494949492, 0.1408333333333333, 0.16466942148760333, 0.2772727272727273, 0.02261904761904762, -0.15, -0.05714285714285716, -0.035576923076923075, 0.10555555555555557, 0.0, 0.09218749999999998, -0.03373015873015872, -0.2562499999999999, 0.1451388888888889, -0.040000000000000015, 0.062222222222222213, 0.175, 0.01347402597402596, -0.045454545454545456, -0.004545454545454544, 0.1862504409171076, 0.09727272727272726, 0.02305194805194805, -0.13916947250280584, 0.22000000000000003, 0.10833333333333332, 0.19666666666666668, -0.03181818181818182, -0.009090909090909094, -0.21997354497354502, -0.01874999999999999, -0.014814814814814824, 0.10454545454545454, 0.19444444444444442, -0.03125000000000001, 0.014285714285714275, 0.2725595238095238, 0.29605263157894735, 0.15937500000000002, 0.12424242424242425, -0.08, 0.07916666666666668, 0.1407142857142857, 0.16727272727272724, 0.3738095238095238, 0.1423076923076923, 0.3558333333333333, -0.2777777777777778, 0.028571428571428574, 0.2833333333333333, -0.20357142857142854, -0.008333333333333337, 0.20166666666666666, 0.4641322314049587, 0.047756410256410246, 0.06115702479338843, -0.12833333333333333, 0.25555555555555554, 0.0875, 0.2757142857142857, 0.1068181818181818, 0.0903138528138528, 0.04545454545454545, 0.3, -0.03342592592592593, 0.08388278388278388, 0.21833333333333335, -0.035374149659863956, 0.14545454545454548, 0.006060606060606044, -0.12330246913580245, 0.38273809523809527, 0.321875, -0.15999999999999998, 0.04345238095238095, -0.05833333333333333, 0.0893939393939394, 0.0325, -0.175, 0.4231060606060606, 0.02291666666666668, 0.0736111111111111, 0.09696969696969697, 0.24300000000000005, 0.05, 0.06944444444444445, 0.21999999999999997, -0.02179924242424244, -0.4127272727272727, 0.17767857142857144, -0.01607142857142857, 0.11704545454545455, -0.06666666666666667, 0.07499999999999998]}], {\"height\": 400, \"width\": 800, \"autosize\": false, \"title\": \"Histogram of polarity\", \"xaxis\": {\"title\": \"Polarity\"}, \"yaxis\": {\"title\": \"Probability\"}}, {\"showLink\": false, \"linkText\": \"Export to plot.ly\"})});</script>"
      ],
      "text/vnd.plotly.v1+html": [
       "<div id=\"a42add0a-bc37-4b95-9e21-f4bdcf10de3c\" style=\"height: 400px; width: 800px;\" class=\"plotly-graph-div\"></div><script type=\"text/javascript\">require([\"plotly\"], function(Plotly) { window.PLOTLYENV=window.PLOTLYENV || {};window.PLOTLYENV.BASE_URL=\"https://plot.ly\";Plotly.newPlot(\"a42add0a-bc37-4b95-9e21-f4bdcf10de3c\", [{\"type\": \"histogram\", \"x\": [0.32563016528925615, 0.09999999999999999, 0.0640909090909091, 0.11633333333333333, 0.22821637426900582, 0.2461700336700337, 0.10659090909090911, 0.13888888888888895, 0.32857142857142857, 0.027034313725490186, 0.08896103896103896, 0.20779220779220778, 0.026666666666666665, 0.25, 0.12361111111111112, 0.16923076923076924, 0.2222222222222222, 0.12377622377622376, 0.14537037037037034, -0.005530303030303057, -0.028914141414141434, 0.2691220238095238, 0.3722222222222222, 0.2785714285714285, 0.2686363636363637, 0.19318181818181818, 0.22205882352941175, 0.017592592592592583, 0.04589225589225591, 0.12954545454545457, 0.20294612794612793, 0.08285123966942148, 0.3857142857142857, 0.29209710743801653, 0.09222222222222222, 0.25833333333333336, 0.22307692307692312, 0.24456168831168834, 0.08725490196078432, 0.015740740740740746, 0.1143939393939394, 0.13518518518518519, 0.18863636363636363, 0.08400974025974024, 0.12638888888888886, 0.3714285714285715, 0.17333333333333334, 0.13020833333333331, -9.25185853854297e-18, 0.29333333333333333, -0.039583333333333345, 0.05000000000000001, 0.1494107744107744, 0.10416666666666667, 0.20918367346938777, 0.16666666666666663, 0.24553571428571427, 0.013333333333333324, 0.1351851851851852, 0.0737310606060606, 0.03624999999999999, 0.08888888888888889, 0.0033333333333333214, 0.14285714285714285, 0.32708333333333334, 0.16079545454545452, -0.018181818181818188, 0.01180555555555555, 0.04448051948051947, 0.2179166666666667, 0.2251388888888889, 0.31250000000000006, 0.13434343434343432, 0.06239669421487601, -0.11818181818181821, 0.31363636363636366, 0.3833333333333333, -0.05875000000000001, 0.14361810064935068, 0.3025, 0.2962962962962963, 0.009999999999999992, 0.11875000000000001, 0.08012820512820512, 0.22976190476190475, 0.11166666666666664, 0.1680555555555556, -0.00972222222222223, 0.0011904761904761862, 0.42000000000000004, 0.06071428571428571, 0.192, 0.16333333333333333, 0.1486111111111111, 0.030555555555555544, 0.09999999999999999, 0.08404344193817878, 0.08749999999999998, 0.25178571428571433, -0.05000000000000001, 0.14500000000000002, -0.11666666666666668, 0.4555555555555555, -0.29000000000000004, -0.05000000000000001, 0.062499999999999986, 0.21994949494949492, 0.1408333333333333, 0.16466942148760333, 0.2772727272727273, 0.02261904761904762, -0.15, -0.05714285714285716, -0.035576923076923075, 0.10555555555555557, 0.0, 0.09218749999999998, -0.03373015873015872, -0.2562499999999999, 0.1451388888888889, -0.040000000000000015, 0.062222222222222213, 0.175, 0.01347402597402596, -0.045454545454545456, -0.004545454545454544, 0.1862504409171076, 0.09727272727272726, 0.02305194805194805, -0.13916947250280584, 0.22000000000000003, 0.10833333333333332, 0.19666666666666668, -0.03181818181818182, -0.009090909090909094, -0.21997354497354502, -0.01874999999999999, -0.014814814814814824, 0.10454545454545454, 0.19444444444444442, -0.03125000000000001, 0.014285714285714275, 0.2725595238095238, 0.29605263157894735, 0.15937500000000002, 0.12424242424242425, -0.08, 0.07916666666666668, 0.1407142857142857, 0.16727272727272724, 0.3738095238095238, 0.1423076923076923, 0.3558333333333333, -0.2777777777777778, 0.028571428571428574, 0.2833333333333333, -0.20357142857142854, -0.008333333333333337, 0.20166666666666666, 0.4641322314049587, 0.047756410256410246, 0.06115702479338843, -0.12833333333333333, 0.25555555555555554, 0.0875, 0.2757142857142857, 0.1068181818181818, 0.0903138528138528, 0.04545454545454545, 0.3, -0.03342592592592593, 0.08388278388278388, 0.21833333333333335, -0.035374149659863956, 0.14545454545454548, 0.006060606060606044, -0.12330246913580245, 0.38273809523809527, 0.321875, -0.15999999999999998, 0.04345238095238095, -0.05833333333333333, 0.0893939393939394, 0.0325, -0.175, 0.4231060606060606, 0.02291666666666668, 0.0736111111111111, 0.09696969696969697, 0.24300000000000005, 0.05, 0.06944444444444445, 0.21999999999999997, -0.02179924242424244, -0.4127272727272727, 0.17767857142857144, -0.01607142857142857, 0.11704545454545455, -0.06666666666666667, 0.07499999999999998]}], {\"height\": 400, \"width\": 800, \"autosize\": false, \"title\": \"Histogram of polarity\", \"xaxis\": {\"title\": \"Polarity\"}, \"yaxis\": {\"title\": \"Probability\"}}, {\"showLink\": false, \"linkText\": \"Export to plot.ly\"})});</script>"
      ]
     },
     "metadata": {},
     "output_type": "display_data"
    }
   ],
   "source": [
    "x = np.array(df['polarity'])\n",
    "data = [go.Histogram(x=x)]\n",
    "\n",
    "layout = go.Layout(height = 400,\n",
    "                   width = 800,\n",
    "                   autosize = False,\n",
    "                   title = 'Histogram of polarity',\n",
    "                   xaxis=dict(\n",
    "                   title='Polarity'),\n",
    "                   yaxis=dict(\n",
    "                   title='Probability')\n",
    "                  )\n",
    "\n",
    "fig = go.Figure(data = data, layout = layout)\n",
    "\n",
    "py.offline.iplot(fig, filename='basic histogram', show_link = False)"
   ]
  },
  {
   "cell_type": "markdown",
   "metadata": {},
   "source": [
    "###### This is an example of Pygal pie chart which I personally dont like"
   ]
  },
  {
   "cell_type": "code",
   "execution_count": 16,
   "metadata": {},
   "outputs": [
    {
     "data": {
      "text/html": [
       "\n",
       "<!DOCTYPE html>\n",
       "<html>\n",
       "  <head>\n",
       "  <script type=\"text/javascript\" src=\"http://kozea.github.com/pygal.js/javascripts/svg.jquery.js\"></script>\n",
       "  <script type=\"text/javascript\" src=\"https://kozea.github.io/pygal.js/2.0.x/pygal-tooltips.min.js\"\"></script>\n",
       "  </head>\n",
       "  <body>\n",
       "    <figure>\n",
       "      <?xml version='1.0' encoding='utf-8'?>\n",
       "<svg xmlns:xlink=\"http://www.w3.org/1999/xlink\" xmlns=\"http://www.w3.org/2000/svg\" id=\"chart-78624dd1-cf3a-4737-aafb-861c7f313ec6\" class=\"pygal-chart\" viewBox=\"0 0 800 600\"><!--Generated with pygal 2.4.0 (lxml) ©Kozea 2012-2016 on 2018-07-17--><!--http://pygal.org--><!--http://github.com/Kozea/pygal--><defs><style type=\"text/css\">#chart-78624dd1-cf3a-4737-aafb-861c7f313ec6{-webkit-user-select:none;-webkit-font-smoothing:antialiased;font-family:Consolas,\"Liberation Mono\",Menlo,Courier,monospace}#chart-78624dd1-cf3a-4737-aafb-861c7f313ec6 .title{font-family:Consolas,\"Liberation Mono\",Menlo,Courier,monospace;font-size:16px}#chart-78624dd1-cf3a-4737-aafb-861c7f313ec6 .legends .legend text{font-family:Consolas,\"Liberation Mono\",Menlo,Courier,monospace;font-size:14px}#chart-78624dd1-cf3a-4737-aafb-861c7f313ec6 .axis text{font-family:Consolas,\"Liberation Mono\",Menlo,Courier,monospace;font-size:10px}#chart-78624dd1-cf3a-4737-aafb-861c7f313ec6 .axis text.major{font-family:Consolas,\"Liberation Mono\",Menlo,Courier,monospace;font-size:10px}#chart-78624dd1-cf3a-4737-aafb-861c7f313ec6 .text-overlay text.value{font-family:Consolas,\"Liberation Mono\",Menlo,Courier,monospace;font-size:16px}#chart-78624dd1-cf3a-4737-aafb-861c7f313ec6 .text-overlay text.label{font-family:Consolas,\"Liberation Mono\",Menlo,Courier,monospace;font-size:10px}#chart-78624dd1-cf3a-4737-aafb-861c7f313ec6 .tooltip{font-family:Consolas,\"Liberation Mono\",Menlo,Courier,monospace;font-size:14px}#chart-78624dd1-cf3a-4737-aafb-861c7f313ec6 text.no_data{font-family:Consolas,\"Liberation Mono\",Menlo,Courier,monospace;font-size:64px}\n",
       "#chart-78624dd1-cf3a-4737-aafb-861c7f313ec6{background-color:rgba(249,249,249,1)}#chart-78624dd1-cf3a-4737-aafb-861c7f313ec6 path,#chart-78624dd1-cf3a-4737-aafb-861c7f313ec6 line,#chart-78624dd1-cf3a-4737-aafb-861c7f313ec6 rect,#chart-78624dd1-cf3a-4737-aafb-861c7f313ec6 circle{-webkit-transition:150ms;-moz-transition:150ms;transition:150ms}#chart-78624dd1-cf3a-4737-aafb-861c7f313ec6 .graph &gt; .background{fill:rgba(249,249,249,1)}#chart-78624dd1-cf3a-4737-aafb-861c7f313ec6 .plot &gt; .background{fill:rgba(255,255,255,1)}#chart-78624dd1-cf3a-4737-aafb-861c7f313ec6 .graph{fill:rgba(0,0,0,.87)}#chart-78624dd1-cf3a-4737-aafb-861c7f313ec6 text.no_data{fill:rgba(0,0,0,1)}#chart-78624dd1-cf3a-4737-aafb-861c7f313ec6 .title{fill:rgba(0,0,0,1)}#chart-78624dd1-cf3a-4737-aafb-861c7f313ec6 .legends .legend text{fill:rgba(0,0,0,.87)}#chart-78624dd1-cf3a-4737-aafb-861c7f313ec6 .legends .legend:hover text{fill:rgba(0,0,0,1)}#chart-78624dd1-cf3a-4737-aafb-861c7f313ec6 .axis .line{stroke:rgba(0,0,0,1)}#chart-78624dd1-cf3a-4737-aafb-861c7f313ec6 .axis .guide.line{stroke:rgba(0,0,0,.54)}#chart-78624dd1-cf3a-4737-aafb-861c7f313ec6 .axis .major.line{stroke:rgba(0,0,0,.87)}#chart-78624dd1-cf3a-4737-aafb-861c7f313ec6 .axis text.major{fill:rgba(0,0,0,1)}#chart-78624dd1-cf3a-4737-aafb-861c7f313ec6 .axis.y .guides:hover .guide.line,#chart-78624dd1-cf3a-4737-aafb-861c7f313ec6 .line-graph .axis.x .guides:hover .guide.line,#chart-78624dd1-cf3a-4737-aafb-861c7f313ec6 .stackedline-graph .axis.x .guides:hover .guide.line,#chart-78624dd1-cf3a-4737-aafb-861c7f313ec6 .xy-graph .axis.x .guides:hover .guide.line{stroke:rgba(0,0,0,1)}#chart-78624dd1-cf3a-4737-aafb-861c7f313ec6 .axis .guides:hover text{fill:rgba(0,0,0,1)}#chart-78624dd1-cf3a-4737-aafb-861c7f313ec6 .reactive{fill-opacity:.7;stroke-opacity:.8}#chart-78624dd1-cf3a-4737-aafb-861c7f313ec6 .ci{stroke:rgba(0,0,0,.87)}#chart-78624dd1-cf3a-4737-aafb-861c7f313ec6 .reactive.active,#chart-78624dd1-cf3a-4737-aafb-861c7f313ec6 .active .reactive{fill-opacity:.8;stroke-opacity:.9;stroke-width:4}#chart-78624dd1-cf3a-4737-aafb-861c7f313ec6 .ci .reactive.active{stroke-width:1.5}#chart-78624dd1-cf3a-4737-aafb-861c7f313ec6 .series text{fill:rgba(0,0,0,1)}#chart-78624dd1-cf3a-4737-aafb-861c7f313ec6 .tooltip rect{fill:rgba(255,255,255,1);stroke:rgba(0,0,0,1);-webkit-transition:opacity 150ms;-moz-transition:opacity 150ms;transition:opacity 150ms}#chart-78624dd1-cf3a-4737-aafb-861c7f313ec6 .tooltip .label{fill:rgba(0,0,0,.87)}#chart-78624dd1-cf3a-4737-aafb-861c7f313ec6 .tooltip .label{fill:rgba(0,0,0,.87)}#chart-78624dd1-cf3a-4737-aafb-861c7f313ec6 .tooltip .legend{font-size:.8em;fill:rgba(0,0,0,.54)}#chart-78624dd1-cf3a-4737-aafb-861c7f313ec6 .tooltip .x_label{font-size:.6em;fill:rgba(0,0,0,1)}#chart-78624dd1-cf3a-4737-aafb-861c7f313ec6 .tooltip .xlink{font-size:.5em;text-decoration:underline}#chart-78624dd1-cf3a-4737-aafb-861c7f313ec6 .tooltip .value{font-size:1.5em}#chart-78624dd1-cf3a-4737-aafb-861c7f313ec6 .bound{font-size:.5em}#chart-78624dd1-cf3a-4737-aafb-861c7f313ec6 .max-value{font-size:.75em;fill:rgba(0,0,0,.54)}#chart-78624dd1-cf3a-4737-aafb-861c7f313ec6 .map-element{fill:rgba(255,255,255,1);stroke:rgba(0,0,0,.54) !important}#chart-78624dd1-cf3a-4737-aafb-861c7f313ec6 .map-element .reactive{fill-opacity:inherit;stroke-opacity:inherit}#chart-78624dd1-cf3a-4737-aafb-861c7f313ec6 .color-0,#chart-78624dd1-cf3a-4737-aafb-861c7f313ec6 .color-0 a:visited{stroke:#F44336;fill:#F44336}#chart-78624dd1-cf3a-4737-aafb-861c7f313ec6 .color-1,#chart-78624dd1-cf3a-4737-aafb-861c7f313ec6 .color-1 a:visited{stroke:#3F51B5;fill:#3F51B5}#chart-78624dd1-cf3a-4737-aafb-861c7f313ec6 .color-2,#chart-78624dd1-cf3a-4737-aafb-861c7f313ec6 .color-2 a:visited{stroke:#009688;fill:#009688}#chart-78624dd1-cf3a-4737-aafb-861c7f313ec6 .text-overlay .color-0 text{fill:black}#chart-78624dd1-cf3a-4737-aafb-861c7f313ec6 .text-overlay .color-1 text{fill:black}#chart-78624dd1-cf3a-4737-aafb-861c7f313ec6 .text-overlay .color-2 text{fill:black}\n",
       "#chart-78624dd1-cf3a-4737-aafb-861c7f313ec6 text.no_data{text-anchor:middle}#chart-78624dd1-cf3a-4737-aafb-861c7f313ec6 .guide.line{fill:none}#chart-78624dd1-cf3a-4737-aafb-861c7f313ec6 .centered{text-anchor:middle}#chart-78624dd1-cf3a-4737-aafb-861c7f313ec6 .title{text-anchor:middle}#chart-78624dd1-cf3a-4737-aafb-861c7f313ec6 .legends .legend text{fill-opacity:1}#chart-78624dd1-cf3a-4737-aafb-861c7f313ec6 .axis.x text{text-anchor:middle}#chart-78624dd1-cf3a-4737-aafb-861c7f313ec6 .axis.x:not(.web) text[transform]{text-anchor:start}#chart-78624dd1-cf3a-4737-aafb-861c7f313ec6 .axis.x:not(.web) text[transform].backwards{text-anchor:end}#chart-78624dd1-cf3a-4737-aafb-861c7f313ec6 .axis.y text{text-anchor:end}#chart-78624dd1-cf3a-4737-aafb-861c7f313ec6 .axis.y text[transform].backwards{text-anchor:start}#chart-78624dd1-cf3a-4737-aafb-861c7f313ec6 .axis.y2 text{text-anchor:start}#chart-78624dd1-cf3a-4737-aafb-861c7f313ec6 .axis.y2 text[transform].backwards{text-anchor:end}#chart-78624dd1-cf3a-4737-aafb-861c7f313ec6 .axis .guide.line{stroke-dasharray:4,4}#chart-78624dd1-cf3a-4737-aafb-861c7f313ec6 .axis .major.guide.line{stroke-dasharray:6,6}#chart-78624dd1-cf3a-4737-aafb-861c7f313ec6 .horizontal .axis.y .guide.line,#chart-78624dd1-cf3a-4737-aafb-861c7f313ec6 .horizontal .axis.y2 .guide.line,#chart-78624dd1-cf3a-4737-aafb-861c7f313ec6 .vertical .axis.x .guide.line{opacity:0}#chart-78624dd1-cf3a-4737-aafb-861c7f313ec6 .horizontal .axis.always_show .guide.line,#chart-78624dd1-cf3a-4737-aafb-861c7f313ec6 .vertical .axis.always_show .guide.line{opacity:1 !important}#chart-78624dd1-cf3a-4737-aafb-861c7f313ec6 .axis.y .guides:hover .guide.line,#chart-78624dd1-cf3a-4737-aafb-861c7f313ec6 .axis.y2 .guides:hover .guide.line,#chart-78624dd1-cf3a-4737-aafb-861c7f313ec6 .axis.x .guides:hover .guide.line{opacity:1}#chart-78624dd1-cf3a-4737-aafb-861c7f313ec6 .axis .guides:hover text{opacity:1}#chart-78624dd1-cf3a-4737-aafb-861c7f313ec6 .nofill{fill:none}#chart-78624dd1-cf3a-4737-aafb-861c7f313ec6 .subtle-fill{fill-opacity:.2}#chart-78624dd1-cf3a-4737-aafb-861c7f313ec6 .dot{stroke-width:1px;fill-opacity:1}#chart-78624dd1-cf3a-4737-aafb-861c7f313ec6 .dot.active{stroke-width:5px}#chart-78624dd1-cf3a-4737-aafb-861c7f313ec6 .dot.negative{fill:transparent}#chart-78624dd1-cf3a-4737-aafb-861c7f313ec6 text,#chart-78624dd1-cf3a-4737-aafb-861c7f313ec6 tspan{stroke:none !important}#chart-78624dd1-cf3a-4737-aafb-861c7f313ec6 .series text.active{opacity:1}#chart-78624dd1-cf3a-4737-aafb-861c7f313ec6 .tooltip rect{fill-opacity:.95;stroke-width:.5}#chart-78624dd1-cf3a-4737-aafb-861c7f313ec6 .tooltip text{fill-opacity:1}#chart-78624dd1-cf3a-4737-aafb-861c7f313ec6 .showable{visibility:hidden}#chart-78624dd1-cf3a-4737-aafb-861c7f313ec6 .showable.shown{visibility:visible}#chart-78624dd1-cf3a-4737-aafb-861c7f313ec6 .gauge-background{fill:rgba(229,229,229,1);stroke:none}#chart-78624dd1-cf3a-4737-aafb-861c7f313ec6 .bg-lines{stroke:rgba(249,249,249,1);stroke-width:2px}</style><script type=\"text/javascript\">window.pygal = window.pygal || {};window.pygal.config = window.pygal.config || {};window.pygal.config['78624dd1-cf3a-4737-aafb-861c7f313ec6'] = {\"allow_interruptions\": false, \"box_mode\": \"extremes\", \"classes\": [\"pygal-chart\"], \"css\": [\"file://style.css\", \"file://graph.css\"], \"defs\": [], \"disable_xml_declaration\": false, \"dots_size\": 2.5, \"dynamic_print_values\": false, \"explicit_size\": false, \"fill\": false, \"force_uri_protocol\": \"https\", \"formatter\": null, \"half_pie\": false, \"height\": 600, \"include_x_axis\": false, \"inner_radius\": 0, \"interpolate\": null, \"interpolation_parameters\": {}, \"interpolation_precision\": 250, \"inverse_y_axis\": false, \"js\": [\"//kozea.github.io/pygal.js/2.0.x/pygal-tooltips.min.js\"], \"legend_at_bottom\": false, \"legend_at_bottom_columns\": null, \"legend_box_size\": 12, \"logarithmic\": false, \"margin\": 20, \"margin_bottom\": null, \"margin_left\": null, \"margin_right\": null, \"margin_top\": null, \"max_scale\": 16, \"min_scale\": 4, \"missing_value_fill_truncation\": \"x\", \"no_data_text\": \"No data\", \"no_prefix\": false, \"order_min\": null, \"pretty_print\": false, \"print_labels\": false, \"print_values\": false, \"print_values_position\": \"center\", \"print_zeroes\": true, \"range\": null, \"rounded_bars\": null, \"secondary_range\": null, \"show_dots\": true, \"show_legend\": true, \"show_minor_x_labels\": true, \"show_minor_y_labels\": true, \"show_only_major_dots\": false, \"show_x_guides\": false, \"show_x_labels\": true, \"show_y_guides\": true, \"show_y_labels\": true, \"spacing\": 10, \"stack_from_top\": false, \"strict\": false, \"stroke\": true, \"stroke_style\": null, \"style\": {\"background\": \"rgba(249, 249, 249, 1)\", \"ci_colors\": [], \"colors\": [\"#F44336\", \"#3F51B5\", \"#009688\", \"#FFC107\", \"#FF5722\", \"#9C27B0\", \"#03A9F4\", \"#8BC34A\", \"#FF9800\", \"#E91E63\", \"#2196F3\", \"#4CAF50\", \"#FFEB3B\", \"#673AB7\", \"#00BCD4\", \"#CDDC39\", \"#9E9E9E\", \"#607D8B\"], \"font_family\": \"Consolas, \\\"Liberation Mono\\\", Menlo, Courier, monospace\", \"foreground\": \"rgba(0, 0, 0, .87)\", \"foreground_strong\": \"rgba(0, 0, 0, 1)\", \"foreground_subtle\": \"rgba(0, 0, 0, .54)\", \"guide_stroke_dasharray\": \"4,4\", \"label_font_family\": \"Consolas, \\\"Liberation Mono\\\", Menlo, Courier, monospace\", \"label_font_size\": 10, \"legend_font_family\": \"Consolas, \\\"Liberation Mono\\\", Menlo, Courier, monospace\", \"legend_font_size\": 14, \"major_guide_stroke_dasharray\": \"6,6\", \"major_label_font_family\": \"Consolas, \\\"Liberation Mono\\\", Menlo, Courier, monospace\", \"major_label_font_size\": 10, \"no_data_font_family\": \"Consolas, \\\"Liberation Mono\\\", Menlo, Courier, monospace\", \"no_data_font_size\": 64, \"opacity\": \".7\", \"opacity_hover\": \".8\", \"plot_background\": \"rgba(255, 255, 255, 1)\", \"stroke_opacity\": \".8\", \"stroke_opacity_hover\": \".9\", \"title_font_family\": \"Consolas, \\\"Liberation Mono\\\", Menlo, Courier, monospace\", \"title_font_size\": 16, \"tooltip_font_family\": \"Consolas, \\\"Liberation Mono\\\", Menlo, Courier, monospace\", \"tooltip_font_size\": 14, \"transition\": \"150ms\", \"value_background\": \"rgba(229, 229, 229, 1)\", \"value_colors\": [], \"value_font_family\": \"Consolas, \\\"Liberation Mono\\\", Menlo, Courier, monospace\", \"value_font_size\": 16, \"value_label_font_family\": \"Consolas, \\\"Liberation Mono\\\", Menlo, Courier, monospace\", \"value_label_font_size\": 10}, \"title\": \"Number of reviews in each sentiment category\", \"tooltip_border_radius\": 0, \"tooltip_fancy_mode\": true, \"truncate_label\": null, \"truncate_legend\": null, \"width\": 800, \"x_label_rotation\": 0, \"x_labels\": null, \"x_labels_major\": null, \"x_labels_major_count\": null, \"x_labels_major_every\": null, \"x_title\": null, \"xrange\": null, \"y_label_rotation\": 0, \"y_labels\": null, \"y_labels_major\": null, \"y_labels_major_count\": null, \"y_labels_major_every\": null, \"y_title\": null, \"zero\": 0, \"legends\": [\"Positive\", \"Neutral\", \"Negative\"]}</script><script type=\"text/javascript\" xlink:href=\"https://kozea.github.io/pygal.js/2.0.x/pygal-tooltips.min.js\"/></defs><title>Number of reviews in each sentiment category</title><g class=\"graph pie-graph vertical\"><rect class=\"background\" height=\"600\" width=\"800\" x=\"0\" y=\"0\"/><g class=\"plot\" transform=\"translate(109, 46)\"><rect class=\"background\" height=\"534\" width=\"670.8\" x=\"0\" y=\"0\"/><g class=\"series serie-0 color-0\"><g class=\"slices\"><g class=\"slice\"><path class=\"slice reactive tooltip-trigger\" d=\"M335.400000 26.700000 A240.300000 240.300000 0 1 1 320.311438 506.825823 L335.400000 267.000000 A0.000000 0.000000 0 1 0 335.400000 267.000000 z\"/><desc class=\"value\">102</desc><desc class=\"x centered\">455.49071322794265</desc><desc class=\"y centered\">270.7740027032371</desc></g></g></g><g class=\"series serie-1 color-1\"><g class=\"slices\"><g class=\"slice\"><path class=\"slice reactive tooltip-trigger\" d=\"M320.311438 506.825823 A240.300000 240.300000 0 0 1 233.085236 49.570059 L335.400000 267.000000 A0.000000 0.000000 0 0 0 335.400000 267.000000 z\"/><desc class=\"value\">84</desc><desc class=\"x centered\">217.37818682494802</desc><desc class=\"y centered\">289.5138649474748</desc></g></g></g><g class=\"series serie-2 color-2\"><g class=\"slices\"><g class=\"slice\"><path class=\"slice reactive tooltip-trigger\" d=\"M233.085236 49.570059 A240.300000 240.300000 0 0 1 335.400000 26.700000 L335.400000 267.000000 A0.000000 0.000000 0 0 0 335.400000 267.000000 z\"/><desc class=\"value\">14</desc><desc class=\"x centered\">309.1900895462053</desc><desc class=\"y centered\">149.74360105305954</desc></g></g></g></g><g class=\"titles\"><text class=\"title plot_title\" x=\"400.0\" y=\"26\">Number of reviews in each sentiment category</text></g><g class=\"plot overlay\" transform=\"translate(109, 46)\"><g class=\"series serie-0 color-0\"/><g class=\"series serie-1 color-1\"/><g class=\"series serie-2 color-2\"/></g><g class=\"plot text-overlay\" transform=\"translate(109, 46)\"><g class=\"series serie-0 color-0\"/><g class=\"series serie-1 color-1\"/><g class=\"series serie-2 color-2\"/></g><g class=\"plot tooltip-overlay\" transform=\"translate(109, 46)\"><g class=\"tooltip\" style=\"opacity: 0\" transform=\"translate(0 0)\"><rect class=\"tooltip-box\" height=\"0\" rx=\"0\" ry=\"0\" width=\"0\"/><g class=\"text\"/></g></g><g class=\"legends\" transform=\"translate(10, 56)\"><g class=\"legend reactive activate-serie\" id=\"activate-serie-0\"><rect class=\"color-0 reactive\" height=\"12\" width=\"12\" x=\"0.0\" y=\"1.0\"/><text x=\"17.0\" y=\"11.2\">Positive</text></g><g class=\"legend reactive activate-serie\" id=\"activate-serie-1\"><rect class=\"color-1 reactive\" height=\"12\" width=\"12\" x=\"0.0\" y=\"22.0\"/><text x=\"17.0\" y=\"32.2\">Neutral</text></g><g class=\"legend reactive activate-serie\" id=\"activate-serie-2\"><rect class=\"color-2 reactive\" height=\"12\" width=\"12\" x=\"0.0\" y=\"43.0\"/><text x=\"17.0\" y=\"53.2\">Negative</text></g></g><g class=\"legends\" transform=\"translate(790, 56)\"/></g></svg>\n",
       "    </figure>\n",
       "  </body>\n",
       "</html>\n"
      ],
      "text/plain": [
       "<IPython.core.display.HTML object>"
      ]
     },
     "metadata": {},
     "output_type": "display_data"
    }
   ],
   "source": [
    "import pygal\n",
    "from IPython.display import display, HTML\n",
    "\n",
    "base_html = \"\"\"\n",
    "<!DOCTYPE html>\n",
    "<html>\n",
    "  <head>\n",
    "  <script type=\"text/javascript\" src=\"http://kozea.github.com/pygal.js/javascripts/svg.jquery.js\"></script>\n",
    "  <script type=\"text/javascript\" src=\"https://kozea.github.io/pygal.js/2.0.x/pygal-tooltips.min.js\"\"></script>\n",
    "  </head>\n",
    "  <body>\n",
    "    <figure>\n",
    "      {rendered_chart}\n",
    "    </figure>\n",
    "  </body>\n",
    "</html>\n",
    "\"\"\"\n",
    "\n",
    "def galplot(chart):\n",
    "    rendered_chart = chart.render(is_unicode=True)\n",
    "    plot_html = base_html.format(rendered_chart=rendered_chart)\n",
    "    display(HTML(plot_html))\n",
    "\n",
    "pie_chart = pygal.Pie()\n",
    "pie_chart.title = 'Number of reviews in each sentiment category'\n",
    "pie_chart.add('Positive',pos)\n",
    "pie_chart.add('Neutral', neu)\n",
    "pie_chart.add('Negative',neg)\n",
    "\n",
    "galplot(pie_chart)"
   ]
  }
 ],
 "metadata": {
  "kernelspec": {
   "display_name": "Python [conda env:Anaconda3]",
   "language": "python",
   "name": "conda-env-Anaconda3-py"
  },
  "language_info": {
   "codemirror_mode": {
    "name": "ipython",
    "version": 3
   },
   "file_extension": ".py",
   "mimetype": "text/x-python",
   "name": "python",
   "nbconvert_exporter": "python",
   "pygments_lexer": "ipython3",
   "version": "3.6.3"
  }
 },
 "nbformat": 4,
 "nbformat_minor": 2
}
