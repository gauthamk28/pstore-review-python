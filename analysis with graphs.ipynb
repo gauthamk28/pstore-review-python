{
 "cells": [
  {
   "cell_type": "code",
   "execution_count": 1,
   "metadata": {},
   "outputs": [],
   "source": [
    "from textblob import TextBlob\n",
    "# For reading input files in CSV format\n",
    "import csv\n",
    "# For doing cool regular expressions\n",
    "import re\n",
    "# For sorting dictionaries\n",
    "import operator\n",
    "# For plotting results\n",
    "import numpy as np\n",
    "import matplotlib.mlab as mlab\n",
    "import matplotlib.pyplot as plt\n",
    "import pandas as pd\n",
    "%matplotlib inline"
   ]
  },
  {
   "cell_type": "code",
   "execution_count": 2,
   "metadata": {},
   "outputs": [],
   "source": [
    "df=pd.read_csv('cleaned_uberreviews.csv',encoding='cp1252',usecols=['review'])"
   ]
  },
  {
   "cell_type": "code",
   "execution_count": 3,
   "metadata": {},
   "outputs": [],
   "source": [
    "df['clean'] = df['review']\n",
    "\n",
    "# Remove all non-ascii characters\n",
    "#df['clean'] = re.sub(r'[^\\x00-\\x7F]+',' ', df['clean'])\n",
    "df['clean'] = df['clean'].str.replace(r'[^\\x00-\\x7F]+', '')\n",
    "\n",
    "# Normalize case\n",
    "df['clean'] = df['clean'].str.lower()\n",
    "\n",
    "df['clean'] = df['clean'].str.replace(r'ubre+', 'uber')\n",
    "df['clean'] = df['clean'].str.replace(r'ureb+', 'uber')\n",
    "df['clean'] = df['clean'].str.replace(r'uerb+', 'uber')\n",
    "df['clean'] = df['clean'].str.replace(r'uubr+', 'uber')"
   ]
  },
  {
   "cell_type": "code",
   "execution_count": 4,
   "metadata": {},
   "outputs": [],
   "source": [
    "# Correct spelling (WARNING: SLOW)\n",
    "df['spell_correction'] = df.apply(lambda x: TextBlob(x['review']).correct(), axis=1)"
   ]
  },
  {
   "cell_type": "code",
   "execution_count": 5,
   "metadata": {},
   "outputs": [],
   "source": [
    "# DEVELOP MODELS\n",
    "\n",
    "df['polarity'] = df.apply(lambda x: TextBlob(x['clean']).sentiment.polarity, axis=1)\n",
    "df['subjectivity'] = df.apply(lambda x: TextBlob(x['clean']).sentiment.subjectivity, axis=1)\n",
    "\n",
    "def senti(df):\n",
    "\n",
    "    if (df['polarity'] >= 0.1):\n",
    "        return 'positive'\n",
    "    elif (df['polarity'] <= -0.1):\n",
    "        return 'negative'\n",
    "    else :\n",
    "        return 'neutral'\n",
    "\n",
    "df['sentiment'] = df.apply(senti, axis = 1)"
   ]
  },
  {
   "cell_type": "code",
   "execution_count": 6,
   "metadata": {},
   "outputs": [
    {
     "name": "stdout",
     "output_type": "stream",
     "text": [
      "Top Positive reviews\n"
     ]
    },
    {
     "data": {
      "text/plain": [
       "133     uber, this service that you are providing us ...\n",
       "102     it's good that u are allowing booking for oth...\n",
       "114     please make sure ur drivers are well behaved ...\n",
       "74      uber is very useful. now, uber has came up wi...\n",
       "23      you need to add option to cancel the order. w...\n",
       "Name: clean, dtype: object"
      ]
     },
     "execution_count": 6,
     "metadata": {},
     "output_type": "execute_result"
    }
   ],
   "source": [
    "# EVALUATE RESULTS\n",
    "\n",
    "# First, print out a few example reviews from each sentiment category.\n",
    "\n",
    "print(\"Top Positive reviews\")\n",
    "positive_reviews = df[df['sentiment']=='positive']['clean']\n",
    "df.sort_values(['polarity'],ascending=0)['clean'].head()"
   ]
  },
  {
   "cell_type": "code",
   "execution_count": 7,
   "metadata": {},
   "outputs": [
    {
     "name": "stdout",
     "output_type": "stream",
     "text": [
      "Top Negative reviews\n"
     ]
    },
    {
     "data": {
      "text/plain": [
       "98      it's been 24 days still my issue is not resol...\n",
       "143     worst app, not even one can is booking showin...\n",
       "75      this app does not work. would not let me add ...\n",
       "66      the price goes up with the time. i have lost ...\n",
       "141     worst app service im trying to reset my accou...\n",
       "Name: clean, dtype: object"
      ]
     },
     "execution_count": 7,
     "metadata": {},
     "output_type": "execute_result"
    }
   ],
   "source": [
    "print(\"Top Negative reviews\")\n",
    "negative_reviews = df[df['sentiment']=='negative']['clean']\n",
    "df.sort_values(['polarity'],ascending=1)['clean'].head()"
   ]
  },
  {
   "cell_type": "code",
   "execution_count": 8,
   "metadata": {},
   "outputs": [
    {
     "name": "stdout",
     "output_type": "stream",
     "text": [
      "Top Neutral reviews\n"
     ]
    },
    {
     "data": {
      "text/plain": [
       "3      requested a ride and it said 10 mins. more th...\n",
       "6      if i could rate no stars i would. the first t...\n",
       "14     i had a problem with a driver 24 hours ago. t...\n",
       "16     uber was good enough unless it started chargi...\n",
       "26     do not use uber!! they are frauds!! my girlfr...\n",
       "Name: clean, dtype: object"
      ]
     },
     "execution_count": 8,
     "metadata": {},
     "output_type": "execute_result"
    }
   ],
   "source": [
    "print(\"Top Neutral reviews\")\n",
    "neutral_reviews = df[df['sentiment']=='neutral']['clean']\n",
    "df[df['sentiment'] =='neutral']['clean'].head()\n"
   ]
  },
  {
   "cell_type": "code",
   "execution_count": 9,
   "metadata": {},
   "outputs": [
    {
     "data": {
      "image/png": "[encoded data removed]",
      "text/plain": [
       "<matplotlib.figure.Figure at 0x1f5eba097b8>"
      ]
     },
     "metadata": {},
     "output_type": "display_data"
    }
   ],
   "source": [
    "# Next, create some plots\n",
    "\n",
    "# A histogram of the scores.\n",
    "x = [df['polarity']]\n",
    "num_bins = 21\n",
    "n, bins, patches = plt.hist(x, num_bins, normed=1, facecolor='green', alpha=0.5)\n",
    "plt.xlabel('Polarity')\n",
    "plt.ylabel('Probability')\n",
    "plt.title(r'Histogram of polarity')\n",
    "# Tweak spacing to prevent clipping of ylabel\n",
    "plt.subplots_adjust(left=0.15)\n",
    "plt.show()"
   ]
  },
  {
   "cell_type": "code",
   "execution_count": 10,
   "metadata": {},
   "outputs": [
    {
     "data": {
      "image/png": "[encoded data removed]",
      "text/plain": [
       "<matplotlib.figure.Figure at 0x1f5eb99ebe0>"
      ]
     },
     "metadata": {},
     "output_type": "display_data"
    }
   ],
   "source": [
    "\n",
    "# A pie chart showing the number of reviews in each sentiment category\n",
    "\n",
    "pos = len(positive_reviews)\n",
    "neu = len(negative_reviews)\n",
    "neg = len(neutral_reviews)\n",
    "labels = 'Positive', 'Neutral', 'Negative'\n",
    "sizes = [pos, neu, neg]\n",
    "colors = ['yellowgreen', 'gold', 'lightcoral']\n",
    "plt.pie(sizes, labels=labels, colors=colors,\n",
    "        autopct='%1.1f%%', shadow=True, startangle=90)\n",
    "plt.axis('equal')\n",
    "plt.show()\n"
   ]
  },
  {
   "cell_type": "code",
   "execution_count": null,
   "metadata": {},
   "outputs": [],
   "source": []
  }
 ],
 "metadata": {
  "kernelspec": {
   "display_name": "Python [conda env:Anaconda3]",
   "language": "python",
   "name": "conda-env-Anaconda3-py"
  },
  "language_info": {
   "codemirror_mode": {
    "name": "ipython",
    "version": 3
   },
   "file_extension": ".py",
   "mimetype": "text/x-python",
   "name": "python",
   "nbconvert_exporter": "python",
   "pygments_lexer": "ipython3",
   "version": "3.6.3"
  }
 },
 "nbformat": 4,
 "nbformat_minor": 2
}
